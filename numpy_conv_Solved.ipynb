{
 "cells": [
  {
   "cell_type": "code",
   "execution_count": null,
   "id": "fa5c96a8",
   "metadata": {},
   "outputs": [],
   "source": [
    "import numpy as np\n",
    "import pandas as pd\n",
    "import matplotlib.pyplot as plt\n",
    "import random"
   ]
  },
  {
   "cell_type": "code",
   "execution_count": null,
   "id": "beee30e7",
   "metadata": {},
   "outputs": [],
   "source": [
    "from tensorflow.keras.datasets import cifar10\n",
    "\n",
    "(trainX, trainy), (testX, testy) = cifar10.load_data()\n",
    "print('Train: X=%s, y=%s' % (trainX.shape, trainy.shape))\n",
    "print('Test: X=%s, y=%s' % (testX.shape, testy.shape))\n",
    "for i in range(9):\n",
    "    plt.subplot(330 + 1 + i)\n",
    "    plt.imshow(trainX[i][:,::-1, :]/255 + np.random.normal(size=trainX[i][:,::-1, :].shape) * 1e-1)\n",
    "\n",
    "plt.show()"
   ]
  },
  {
   "cell_type": "code",
   "execution_count": null,
   "id": "4ad6a3b1",
   "metadata": {},
   "outputs": [],
   "source": [
    "n_data = 40\n",
    "train_images = trainX[:n_data]\n",
    "train_labels = pd.get_dummies(trainy[:n_data,0]).values\n",
    "test_images = testX[:n_data]\n",
    "test_labels = pd.get_dummies(testy[:n_data,0]).values\n",
    "n_cls = train_labels.shape[1]"
   ]
  },
  {
   "cell_type": "code",
   "execution_count": null,
   "id": "9f29d86f",
   "metadata": {},
   "outputs": [],
   "source": [
    "train_images.shape"
   ]
  },
  {
   "cell_type": "code",
   "execution_count": null,
   "id": "c833ae03",
   "metadata": {},
   "outputs": [],
   "source": [
    "style = 'conv'"
   ]
  },
  {
   "cell_type": "code",
   "execution_count": null,
   "id": "a2a9f88a",
   "metadata": {},
   "outputs": [],
   "source": [
    "if style == 'fc':\n",
    "    x = train_images.reshape(train_images.shape[0], -1)\n",
    "    x_tst = test_images.reshape(test_images.shape[0], -1)\n",
    "    num_features = x.shape[1]\n",
    "else:\n",
    "    x = train_images\n",
    "    x_tst = test_images\n",
    "    num_features = 3\n",
    "x_mean, x_std = x.mean(), x.std()\n",
    "x = (x - x_mean) / x_std\n",
    "x_tst = (x_tst - x_mean)/ x_std\n",
    "y = train_labels\n",
    "y_tst = test_labels"
   ]
  },
  {
   "cell_type": "code",
   "execution_count": null,
   "id": "676f5bc5",
   "metadata": {},
   "outputs": [],
   "source": [
    "class LeakyRelu:\n",
    "    def __init__(self):\n",
    "        pass\n",
    "    def forward(self, x):\n",
    "        self.x_last = x\n",
    "        ret = np.maximum(x, .3 * x)\n",
    "        return ret\n",
    "    def backward(self, err, *args, **kwargs):\n",
    "        return err * ((self.x_last > 0) + (self.x_last < 0) * .3)\n"
   ]
  },
  {
   "cell_type": "code",
   "execution_count": null,
   "id": "0676093e",
   "metadata": {},
   "outputs": [],
   "source": [
    "class FlattenNp:\n",
    "    def __init__(self):\n",
    "        pass\n",
    "    def forward(self, x):\n",
    "        # reshape x shape [bs, h, w, filters] to [bs, -1]\n",
    "        self.bs, self.h, self.w, self.filters = x.shape\n",
    "        return x.reshape(self.bs, -1)\n",
    "    \n",
    "    def backward(self, err, *args, **kwargs):\n",
    "        # input: [bs, -1]\n",
    "        # output: [bs, h, w, filters]\n",
    "        return err.reshape(self.bs, self.h, self.w, self.filters)"
   ]
  },
  {
   "cell_type": "code",
   "execution_count": null,
   "id": "32c1a5e2",
   "metadata": {},
   "outputs": [],
   "source": [
    "class DenseNp:\n",
    "    def __init__(self, in_shape, out_shape, l2_reg = 1e-5, initialization = 'xavier', momentum = 0.0,\n",
    "                nesterov = False):\n",
    "        self.nesterov = nesterov\n",
    "        self.l2_reg = l2_reg\n",
    "        self.momentum = momentum\n",
    "        self.w = np.random.randn(in_shape, out_shape)\n",
    "        if initialization == 'xavier':\n",
    "            self.w = self.w * np.sqrt(6) / np.sqrt(in_shape + out_shape)\n",
    "        self.b = np.random.randn(out_shape)/out_shape\n",
    "        if momentum >0:\n",
    "            self.w_vel = np.zeros_like(self.w)\n",
    "            self.b_vel = np.zeros_like(self.b)\n",
    "        \n",
    "    def forward(self, x):\n",
    "        self.x_last = x\n",
    "        if self.nesterov:\n",
    "            self.w = self.w + self.w_vel * self.momentum\n",
    "            self.b = self.b + self.b_vel * self.momentum\n",
    "        ret = x @ self.w + self.b\n",
    "        return ret\n",
    "    def backward(self, err, lr):\n",
    "        if len(err.shape) < 2:\n",
    "            err = err[:, None]\n",
    "        grad_backward = err @ self.w.T\n",
    "        if self.momentum == 0:\n",
    "            self.w = self.w +  ((self.x_last.T @ err) - self.l2_reg * self.w) * lr\n",
    "            # err has shape (bs, out_features)\n",
    "            # beta_update has shape (out_features)\n",
    "            beta_update = err.sum(0)\n",
    "            self.b = self.b + beta_update * lr\n",
    "        else:\n",
    "            self.w_vel = self.w_vel * self.momentum +  (\n",
    "                (self.x_last.T @ err) - self.l2_reg * self.w) * (1- self.momentum) * lr\n",
    "            self.b_vel = self.b_vel * self.momentum + err.sum(0) * (1- self.momentum) * lr\n",
    "            if self.nesterov:\n",
    "                self.w += ((self.x_last.T @ err) - self.l2_reg * self.w) * (1- self.momentum) * lr\n",
    "                self.b += err.sum(0) * (1- self.momentum) * lr\n",
    "            else:\n",
    "                self.w += self.w_vel\n",
    "                self.b += self.b_vel\n",
    "\n",
    "        return grad_backward"
   ]
  },
  {
   "cell_type": "code",
   "execution_count": null,
   "id": "85282bd0",
   "metadata": {},
   "outputs": [],
   "source": [
    "class ConvNp:\n",
    "    def __init__(self, in_shape, out_shape, l2_reg = 1e-5, initialization = 'kaiming', momentum = 0.0,\n",
    "                nesterov = False, kernel_size = 3, padding=True):\n",
    "        if nesterov:\n",
    "            raise NotImplementedError('nesterov not yet implemented')\n",
    "        if momentum > 0:\n",
    "            raise NotImplementedError('momentum not yet implemented')\n",
    "        self.kernel_size = kernel_size\n",
    "        self.in_shape = in_shape\n",
    "        self.out_shape = out_shape\n",
    "        self.padding = padding\n",
    "        self.kernel_size = kernel_size\n",
    "        self.pad_size = int((self.kernel_size - 1)/2)\n",
    "        self.nesterov = nesterov\n",
    "        self.l2_reg = l2_reg\n",
    "        self.momentum = momentum\n",
    "        self.w = np.random.randn(kernel_size, kernel_size, in_shape, out_shape)\n",
    "        if initialization == 'xavier':\n",
    "            self.w = self.w * np.sqrt(6) / np.sqrt(in_shape + out_shape)\n",
    "        if initialization == 'kaiming':\n",
    "            self.w = self.w * np.sqrt(2 / in_shape)\n",
    "            self.b = np.zeros((out_shape))\n",
    "        else:\n",
    "            self.b = np.random.randn(out_shape)/out_shape\n",
    "        if momentum >0:\n",
    "            self.w_vel = np.zeros_like(self.w)\n",
    "            self.b_vel = np.zeros_like(self.b)\n",
    "        \n",
    "    def forward(self, x):\n",
    "        # batch_size, h, w, features\n",
    "        bs, h, w, n_in = x.shape\n",
    "        x_pad = np.concatenate((np.zeros((bs, 1, w, n_in)), x, np.zeros((bs, 1, w, n_in))), axis=1)\n",
    "        x_pad = np.concatenate((np.zeros((bs, h+self.pad_size * 2, 1, n_in)), \n",
    "                                x_pad, np.zeros((bs, h+self.pad_size * 2, 1, n_in))), axis=2)\n",
    "        self.x_last = x_pad\n",
    "#         if self.nesterov:\n",
    "#             self.w = self.w + self.w_vel * self.momentum\n",
    "#             self.b = self.b + self.b_vel * self.momentum\n",
    "        output = np.zeros((bs, h, w, self.out_shape))\n",
    "        for i in range(h):\n",
    "            for j in range(w):\n",
    "                h_start, w_start = i, j\n",
    "                h_end, w_end = h_start + self.kernel_size, w_start + self.kernel_size\n",
    "                # batch size, kernel_height, kernel width, in_filters, output_filters\n",
    "                output_val = np.sum(\n",
    "                    x_pad[:, h_start:h_end, w_start:w_end, :, None] *\n",
    "                    self.w[None, :, :, :, :],\n",
    "                    axis=(1, 2, 3)\n",
    "                )\n",
    "                # output val shape: batch_size, output_filters\n",
    "                output[:, i, j, :] = output_val\n",
    "        # batch, h, w, out_filters\n",
    "        return output + self.b[None, None, None, :]\n",
    "    def backward(self, err, lr):\n",
    "        bs, h, w, n_out = err.shape\n",
    "        grad_backward = np.zeros((bs, h, w, self.in_shape))\n",
    "        grad_w = np.zeros((self.kernel_size, self.kernel_size, self.in_shape, self.out_shape))\n",
    "        e_pad = np.concatenate((np.zeros((bs, 1, w, n_out)), err, np.zeros((bs, 1, w, n_out))), axis=1)\n",
    "        e_pad = np.concatenate((np.zeros((bs, h+self.pad_size * 2, 1, n_out)), e_pad, np.zeros((bs, h+self.pad_size * 2, 1, n_out))), axis=2)\n",
    "        for i in range(h):\n",
    "            for j in range(w):\n",
    "                h_start, w_start = i, j\n",
    "                h_end, w_end = h_start + self.kernel_size, w_start + self.kernel_size\n",
    "                # batch size, kernel_height, kernel width, in_filters, output_filters\n",
    "                grad_back_raw =  e_pad[:, h_start:h_end, w_start:w_end, None, :] * self.w[None, :, :, :, :]\n",
    "                grad_to_input = np.sum(grad_back_raw, axis=(1, 2, 4))\n",
    "                # output val shape: batch_size, input_filters\n",
    "                grad_backward[:, i, j, :] = grad_to_input\n",
    "                \n",
    "                grad_w_raw = np.sum(\n",
    "                    e_pad[:, i:i+1, j:j+1, None, :] * \n",
    "                    self.x_last[:, h_start:h_end, w_start:w_end, :, None],\n",
    "                    axis=0\n",
    "                )\n",
    "                # kernel height, kernel width, in_filters, out_filters\n",
    "                grad_w += grad_w_raw/bs\n",
    "        \n",
    "        # err has shape (bs, h, w, out_features)\n",
    "        # beta_update has shape (out_features)\n",
    "        beta_update = np.sum(err, axis=(0, 1, 2))\n",
    "        if self.momentum == 0:\n",
    "            self.w = self.w +  (grad_w - self.l2_reg * self.w) * lr\n",
    "            self.b = self.b + beta_update * lr\n",
    "        else:\n",
    "            self.w_vel = self.w_vel * self.momentum +  (\n",
    "                (self.x_last.T @ err) - self.l2_reg * self.w) * (1- self.momentum) * lr\n",
    "            self.b_vel = self.b_vel * self.momentum + err.sum(0) * (1- self.momentum) * lr\n",
    "            if self.nesterov:\n",
    "                self.w += ((self.x_last.T @ err) - self.l2_reg * self.w) * (1- self.momentum) * lr\n",
    "                self.b += err.sum(0) * (1- self.momentum) * lr\n",
    "            else:\n",
    "                self.w += self.w_vel\n",
    "                self.b += self.b_vel\n",
    "\n",
    "        return grad_backward"
   ]
  },
  {
   "cell_type": "code",
   "execution_count": null,
   "id": "2ef2b67e",
   "metadata": {},
   "outputs": [],
   "source": [
    "class Model:\n",
    "    def __init__(self, layer_shapes, lr = 1e-1, momentum = 0.0, style = 'fc', target_shape = None):\n",
    "        self.lr = lr\n",
    "        self.style = style\n",
    "        self.losses = []\n",
    "        self.layers = []\n",
    "        for in_shape, out_shape in zip(layer_shapes[:-1], layer_shapes[1:]):\n",
    "            if style == 'fc':\n",
    "                self.layers.append(DenseNp(in_shape, out_shape, momentum = momentum))\n",
    "            elif style == 'conv':\n",
    "                self.layers.append(ConvNp(in_shape, out_shape, momentum = momentum))\n",
    "                \n",
    "            self.layers.append(LeakyRelu())\n",
    "        if style == 'conv':\n",
    "            self.layers.append(FlattenNp())\n",
    "            self.layers.append(LeakyRelu())\n",
    "            self.layers.append(DenseNp(layer_shapes[-1] * 32 * 32, target_shape, momentum = momentum))\n",
    "        else:\n",
    "            self.layers = self.layers[:-1]\n",
    "    def predict(self, x):\n",
    "        for layer in self.layers:\n",
    "            x = layer.forward(x)\n",
    "        return x\n",
    "    \n",
    "    def loss(self, x = None, y= None, err = None):\n",
    "        if err is None:\n",
    "            err = self.err(x, y)\n",
    "        return np.square(err).mean()\n",
    "    \n",
    "    def err(self, x, y):\n",
    "        yhat = self.predict(x)\n",
    "        return (y - yhat)\n",
    "#     def backprop(grad_output):\n",
    "        \n",
    "        \n",
    "    def train_fullbatch(self, x, y, steps, **kwargs):\n",
    "        \n",
    "        for step in range(steps):\n",
    "            err = self.err(x, y)\n",
    "            self.losses.append(self.loss(err = err))\n",
    "            grad_layer = err / y.shape[0]\n",
    "            for layer in self.layers[::-1]:\n",
    "                grad_layer = layer.backward(grad_layer, lr = self.lr)\n",
    "            \n",
    "    def train_one_epoch(self, x, y, batch_size):\n",
    "        data_order = np.random.choice(x.shape[0], x.shape[0], replace=False)\n",
    "        num_batch = x.shape[0]//batch_size\n",
    "        minibatch_losses = 0\n",
    "        for batch_idx in range(num_batch):\n",
    "            if batch_idx == num_batch - 1:\n",
    "                sample_idxs = data_order[batch_idx * batch_size:]\n",
    "            else:\n",
    "                sample_idxs = data_order[batch_idx * batch_size: (batch_idx + 1) * batch_size]\n",
    "            x_sample = x[sample_idxs]\n",
    "            y_sample = y[sample_idxs]\n",
    "            err = self.err(x_sample, y_sample)\n",
    "            minibatch_losses += self.loss(err = err)\n",
    "            grad_layer = err / y_sample.shape[0]\n",
    "            for layer in self.layers[::-1]:\n",
    "                grad_layer = layer.backward(grad_layer, lr = self.lr)\n",
    "        self.losses.append(minibatch_losses)\n",
    "        \n",
    "        \n",
    "    def train_minibatch(self, x, y, epochs, batch_size = 8):\n",
    "        for epoch in range(epochs):\n",
    "            self.train_one_epoch(x, y, batch_size = batch_size)\n",
    "        \n",
    "    def train(self, x, y, steps, style = 'fullbatch', **kwargs):\n",
    "        {'minibatch': self.train_minibatch, 'fullbatch': self.train_fullbatch}[style](x, y, steps, **kwargs)\n",
    "    def viz(self, skip_first = 0):\n",
    "        plt.plot(self.losses[skip_first:])"
   ]
  },
  {
   "cell_type": "code",
   "execution_count": null,
   "id": "e4415526",
   "metadata": {},
   "outputs": [],
   "source": [
    "mdl = Model([num_features, 16, 16], momentum = 0, lr = 1e-6, style = style, target_shape = y.shape[1])"
   ]
  },
  {
   "cell_type": "code",
   "execution_count": null,
   "id": "b3ac4918",
   "metadata": {
    "scrolled": true
   },
   "outputs": [],
   "source": [
    "mdl.train(x, y,10 , style = 'minibatch')"
   ]
  },
  {
   "cell_type": "code",
   "execution_count": null,
   "id": "d97104bf",
   "metadata": {},
   "outputs": [],
   "source": [
    "[np.square(layer.w).mean() for layer in mdl.layers if hasattr(layer, 'w')]"
   ]
  },
  {
   "cell_type": "code",
   "execution_count": null,
   "id": "32594077",
   "metadata": {
    "scrolled": true
   },
   "outputs": [],
   "source": [
    "plt.scatter(mdl.predict(x), y)"
   ]
  },
  {
   "cell_type": "code",
   "execution_count": null,
   "id": "d10b5d01",
   "metadata": {
    "scrolled": true
   },
   "outputs": [],
   "source": [
    "mdl.viz(skip_first = 2)"
   ]
  },
  {
   "cell_type": "code",
   "execution_count": null,
   "id": "db76a2a7",
   "metadata": {},
   "outputs": [],
   "source": [
    ".00001"
   ]
  },
  {
   "cell_type": "code",
   "execution_count": null,
   "id": "40f56c5a",
   "metadata": {},
   "outputs": [],
   "source": [
    "x = np.arange(-12, 12, .001)\n",
    "np.log(1+np.exp(x))"
   ]
  },
  {
   "cell_type": "code",
   "execution_count": null,
   "id": "d9d6a341",
   "metadata": {
    "scrolled": false
   },
   "outputs": [],
   "source": [
    "mdl.losses[-1]"
   ]
  },
  {
   "cell_type": "code",
   "execution_count": null,
   "id": "6301cb59",
   "metadata": {
    "scrolled": true
   },
   "outputs": [],
   "source": [
    "from sklearn.linear_model import Ridge\n",
    "baseline = Ridge().fit(x, y)\n",
    "yhat = baseline.predict(x)\n",
    "np.square(yhat - y).mean()"
   ]
  },
  {
   "cell_type": "code",
   "execution_count": null,
   "id": "8397a259",
   "metadata": {
    "scrolled": false
   },
   "outputs": [],
   "source": [
    "mdl.loss(x, y[:,None])"
   ]
  },
  {
   "cell_type": "code",
   "execution_count": null,
   "id": "9d16423f",
   "metadata": {},
   "outputs": [],
   "source": []
  },
  {
   "cell_type": "code",
   "execution_count": null,
   "id": "67b4b1dd",
   "metadata": {},
   "outputs": [],
   "source": []
  },
  {
   "cell_type": "code",
   "execution_count": null,
   "id": "35f0f752",
   "metadata": {},
   "outputs": [],
   "source": []
  }
 ],
 "metadata": {
  "kernelspec": {
   "display_name": "Python 3",
   "language": "python",
   "name": "python3"
  },
  "language_info": {
   "codemirror_mode": {
    "name": "ipython",
    "version": 3
   },
   "file_extension": ".py",
   "mimetype": "text/x-python",
   "name": "python",
   "nbconvert_exporter": "python",
   "pygments_lexer": "ipython3",
   "version": "3.7.6"
  }
 },
 "nbformat": 4,
 "nbformat_minor": 5
}
