{
 "cells": [
  {
   "cell_type": "markdown",
   "id": "6cb8c42d",
   "metadata": {
    "slideshow": {
     "slide_type": "slide"
    }
   },
   "source": [
    "<h1><center>Python Computation Stack</center></h1>\n",
    "\n",
    "* __cupy:__ Numpy like APIs which uses CUDA Kernel\n",
    "* __modin:__ Pandas like API but multi-threaded and uses multiple cores\n",
    "* __numba (JIT):__ JIT compiler to translate python code to LLVM code.\n",
    "* __numpy:__ numpy :D \n",
    "* __dask:__ parallel computing library. Can use local and cluseter using same API with lazy eval & DAG.\n",
    "* __cython (AOT):__ For running C++ code in python.\n",
    "* __pycuda:__ Python's interface of Nvidia's CUDA parallel computation API.\n",
    "* __pypy:__ Implementation of the Python programming language to CPython\n",
    "* __pythran (AOT):__ AOT compiler for a subset of the Python language."
   ]
  },
  {
   "cell_type": "markdown",
   "id": "087e88ce",
   "metadata": {
    "slideshow": {
     "slide_type": "slide"
    }
   },
   "source": [
    "<h1><center>Python GPU Computation Stack</center></h1>\n",
    "\n",
    "![GPU Stack](./gpu_stack.png)"
   ]
  },
  {
   "cell_type": "markdown",
   "id": "b6bc0ef9",
   "metadata": {
    "slideshow": {
     "slide_type": "slide"
    }
   },
   "source": [
    "<h1><center>Setup GPU computation stack</center></h1>\n",
    "\n",
    "\n",
    "```python\n",
    "conda create --name gpu_stack python=3.8 -y\n",
    "conda activate gpu_stack\n",
    "conda install ipykernel jupyter nb_conda_kernels pandas numba cudatoolkit tbb\n",
    "conda install -c conda-forge cupy cudnn cutensor nccl\n",
    "conda install -c numba icc_rt\n",
    "numba -s\n",
    "```\n",
    "\n",
    "If everything is installed correctly `numba -s` should return the hardware, driver and library list.\n",
    "\n",
    "<!-- #TODO: Write what all is gpu libs. -->"
   ]
  },
  {
   "cell_type": "markdown",
   "id": "bca63c16",
   "metadata": {
    "slideshow": {
     "slide_type": "slide"
    }
   },
   "source": [
    "<h1><center>Numba official exmaple</center></h1>"
   ]
  },
  {
   "cell_type": "code",
   "execution_count": 89,
   "id": "172a1dd5",
   "metadata": {
    "slideshow": {
     "slide_type": "subslide"
    }
   },
   "outputs": [],
   "source": [
    "from numba import njit, prange, jit\n",
    "import numba as nb\n",
    "import random\n",
    "import numpy as np\n",
    "\n",
    "@njit(nogil=True, parallel=True, fastmath=True, target_backend = 'cuda')\n",
    "def monte_carlo_pi(nsamples):\n",
    "    acc = 0\n",
    "    for i in prange(nsamples):\n",
    "        x = random.random()\n",
    "        y = random.random()\n",
    "        if (x ** 2 + y ** 2) < 1.0:\n",
    "            acc += 1\n",
    "    return 4.0 * acc / nsamples"
   ]
  },
  {
   "cell_type": "code",
   "execution_count": 91,
   "id": "5ba2613f",
   "metadata": {
    "slideshow": {
     "slide_type": "subslide"
    }
   },
   "outputs": [
    {
     "name": "stdout",
     "output_type": "stream",
     "text": [
      "CPU times: user 18.7 ms, sys: 585 µs, total: 19.3 ms\n",
      "Wall time: 3.12 ms\n",
      "CPU times: user 345 ms, sys: 0 ns, total: 345 ms\n",
      "Wall time: 345 ms\n"
     ]
    },
    {
     "data": {
      "text/plain": [
       "3.14218"
      ]
     },
     "execution_count": 91,
     "metadata": {},
     "output_type": "execute_result"
    }
   ],
   "source": [
    "%time monte_carlo_pi(1000_000)\n",
    "%time monte_carlo_pi.py_func(1000_000)"
   ]
  },
  {
   "cell_type": "code",
   "execution_count": 105,
   "id": "db19b6c6",
   "metadata": {},
   "outputs": [
    {
     "name": "stdout",
     "output_type": "stream",
     "text": [
      "23.8 ms ± 952 µs per loop (mean ± std. dev. of 7 runs, 10 loops each)\n",
      "1.69 ms ± 93.3 µs per loop (mean ± std. dev. of 7 runs, 1 loop each)\n"
     ]
    }
   ],
   "source": [
    "def pi_np(n):\n",
    "    x = np.random.uniform(size = n)\n",
    "    y = np.random.uniform(size = n)\n",
    "    return 4 * np.sum(x**2 + y**2 < 1)/n\n",
    "\n",
    "@njit(nogil=True, parallel=True, fastmath=True)\n",
    "def monte_carlo_pi_cpu(nsamples):\n",
    "    acc = 0\n",
    "    for i in prange(nsamples):\n",
    "        x = random.random()\n",
    "        y = random.random()\n",
    "        if (x ** 2 + y ** 2) < 1.0:\n",
    "            acc += 1\n",
    "    return 4.0 * acc / nsamples\n",
    "\n",
    "%timeit pi_np(1000_000)\n",
    "%timeit monte_carlo_pi_cpu(1000_000)"
   ]
  },
  {
   "cell_type": "markdown",
   "id": "308df099",
   "metadata": {
    "slideshow": {
     "slide_type": "subslide"
    }
   },
   "source": [
    "* __Note:__ Since numba is a JIT compiler, this will take same or even more amount of time to execute the code for 1st time. But, if you run this multiple times using `timeit` magic the performance you will be able to get the performance improvement.\n",
    "* __Note:__ If `monte_carlo_pi(1000_000)` is a numba function, we need use `monte_carlo_pi.py_func(1000_000)` call the pure python version of the JIT complied function.\n",
    "* __Note:__ If your runtime is in `ms` then it is better to use `from time import pref_counter`. It is more accurate than `time` or `timeit`."
   ]
  },
  {
   "cell_type": "markdown",
   "id": "9ca36800",
   "metadata": {
    "slideshow": {
     "slide_type": "slide"
    }
   },
   "source": [
    "<h1><center>Numba pitfalls</center></h1>"
   ]
  },
  {
   "cell_type": "code",
   "execution_count": 111,
   "id": "76685ff5",
   "metadata": {
    "slideshow": {
     "slide_type": "subslide"
    }
   },
   "outputs": [],
   "source": [
    "def spam_py(n):\n",
    "    return n * [1]\n",
    "\n",
    "@jit\n",
    "def spam_jit(n):\n",
    "    return n * [1]\n",
    "\n",
    "@njit\n",
    "def spam_njit(n):\n",
    "    return n * [1]\n",
    "\n",
    "@njit\n",
    "def spam_njit_context(n):\n",
    "    with nb.objmode(res='int64[:]'):\n",
    "        res = np.asarray(n * [1])\n",
    "    return res\n",
    "        \n",
    "\n",
    "# spam_py(3)\n",
    "# spam_jit(3)\n",
    "## NOTE: The following function will fail. We will slove this issue in spam_njit_context\n",
    "# spam_njit(3) \n",
    "# spam_njit_context(3)"
   ]
  },
  {
   "cell_type": "markdown",
   "id": "b704aa84",
   "metadata": {
    "slideshow": {
     "slide_type": "subslide"
    }
   },
   "source": [
    "* __Note:__ `spam_njit` will fail. if we mention `njit` python will throw error if it fallbacks to object mode during unboxing. In many cases this is better if we want to ensure speed.\n",
    "\n",
    "* __Note:__ If it is absolutely necessary use pure python in numba function you can use `nb.objmode` context manager to do this. Check `spam_njit_context` for example."
   ]
  },
  {
   "cell_type": "markdown",
   "id": "737e9e46",
   "metadata": {
    "slideshow": {
     "slide_type": "slide"
    }
   },
   "source": [
    "<h1><center>Functions in python</center></h1>"
   ]
  },
  {
   "cell_type": "code",
   "execution_count": 114,
   "id": "026a0dfa",
   "metadata": {
    "slideshow": {
     "slide_type": "subslide"
    }
   },
   "outputs": [],
   "source": [
    "import dis\n",
    "\n",
    "def cond():\n",
    "    x = 3\n",
    "    if x <5:\n",
    "        return 'yes'\n",
    "    else:\n",
    "        return 'no'\n",
    "\n",
    "# Abstract syntax tree (AST) --> raw bytecode --> numeric bytecode\n",
    "# dis.dis(cond)\n",
    "# cond.__code__.co_code\n",
    "# list(cond.__code__.co_code)"
   ]
  },
  {
   "cell_type": "markdown",
   "id": "96f0c4d7",
   "metadata": {
    "slideshow": {
     "slide_type": "slide"
    }
   },
   "source": [
    "<h1><center>Numba functions</center></h1>"
   ]
  },
  {
   "cell_type": "code",
   "execution_count": 115,
   "id": "183c7319",
   "metadata": {
    "slideshow": {
     "slide_type": "subslide"
    }
   },
   "outputs": [],
   "source": [
    "@nb.jit\n",
    "def compute(n):\n",
    "    return n * 2"
   ]
  },
  {
   "cell_type": "code",
   "execution_count": 116,
   "id": "3287b8d8",
   "metadata": {
    "slideshow": {
     "slide_type": "subslide"
    }
   },
   "outputs": [
    {
     "data": {
      "text/plain": [
       "CPUDispatcher(<function compute at 0x7f408c9dd820>)"
      ]
     },
     "execution_count": 116,
     "metadata": {},
     "output_type": "execute_result"
    }
   ],
   "source": [
    "compute"
   ]
  },
  {
   "cell_type": "code",
   "execution_count": 117,
   "id": "04800ca2",
   "metadata": {
    "slideshow": {
     "slide_type": "subslide"
    }
   },
   "outputs": [
    {
     "data": {
      "text/plain": [
       "OrderedDict()"
      ]
     },
     "execution_count": 117,
     "metadata": {},
     "output_type": "execute_result"
    }
   ],
   "source": [
    "compute.overloads"
   ]
  },
  {
   "cell_type": "code",
   "execution_count": 122,
   "id": "20c5cfe4",
   "metadata": {
    "slideshow": {
     "slide_type": "subslide"
    }
   },
   "outputs": [
    {
     "data": {
      "text/plain": [
       "6.2"
      ]
     },
     "execution_count": 122,
     "metadata": {},
     "output_type": "execute_result"
    }
   ],
   "source": [
    "compute(3.1)"
   ]
  },
  {
   "cell_type": "code",
   "execution_count": 123,
   "id": "b65b1a52",
   "metadata": {
    "slideshow": {
     "slide_type": "subslide"
    }
   },
   "outputs": [
    {
     "data": {
      "text/plain": [
       "OrderedDict([((int64,),\n",
       "              CompileResult(typing_context=<numba.core.typing.context.Context object at 0x7f40c8678be0>, target_context=<numba.core.cpu.CPUContext object at 0x7f404ad7fbe0>, entry_point=<built-in method compute of _dynfunc._Closure object at 0x7f404a8d8b80>, typing_error=None, type_annotation=<numba.core.annotations.type_annotations.TypeAnnotation object at 0x7f404a639550>, signature=(int64,) -> int64, objectmode=False, lifted=(), fndesc=<function descriptor 'compute$139'>, library=<Library 'compute' at 0x7f404a6396d0>, call_helper=None, environment=<Environment '_ZN08NumbaEnv8__main__13compute_24139B46c8tJTIeFCjyCbUFRqqOAFv_2fYRdE1AT0EZmkCAA_3d_3dEx' >, metadata={'parfor_diagnostics': ParforDiagnostics, 'parfors': {}, 'pipeline_times': {'nopython': OrderedDict([('0_translate_bytecode', pass_timings(init=2.4320033844560385e-06, run=0.0004631690026144497, finalize=2.1909945644438267e-06)), ('1_fixup_args', pass_timings(init=1.5139958122745156e-06, run=2.1750020096078515e-06, finalize=8.370043360628188e-07)), ('2_ir_processing', pass_timings(init=9.520008461549878e-07, run=0.000125611994008068, finalize=1.471998984925449e-06)), ('3_with_lifting', pass_timings(init=1.2309974408708513e-06, run=4.207800520816818e-05, finalize=9.200011845678091e-07)), ('4_inline_closure_likes', pass_timings(init=9.889990906231105e-07, run=0.00028000400197925046, finalize=1.4479956007562578e-06)), ('5_rewrite_semantic_constants', pass_timings(init=1.5810001059435308e-06, run=2.0922998373862356e-05, finalize=1.0739968274720013e-06)), ('6_dead_branch_prune', pass_timings(init=1.0029980330727994e-06, run=4.6057000872679055e-05, finalize=9.260038495995104e-07)), ('7_generic_rewrites', pass_timings(init=9.209979907609522e-07, run=0.00015609999536536634, finalize=1.348998921457678e-06)), ('8_make_function_op_code_to_jit_function', pass_timings(init=1.1329975677654147e-06, run=8.727001841180027e-06, finalize=8.189963409677148e-07)), ('9_inline_inlinables', pass_timings(init=7.939961506053805e-07, run=2.087699976982549e-05, finalize=9.180002962239087e-07)), ('10_dead_branch_prune', pass_timings(init=1.0000003385357559e-06, run=4.170800093561411e-05, finalize=7.970011211000383e-07)), ('11_find_literally', pass_timings(init=1.162996341008693e-06, run=8.482005796395242e-06, finalize=6.780028343200684e-07)), ('12_literal_unroll', pass_timings(init=7.76999513618648e-07, run=5.202004103921354e-06, finalize=5.809997674077749e-07)), ('13_reconstruct_ssa', pass_timings(init=9.729992598295212e-07, run=0.0002804100004141219, finalize=1.581996912136674e-06)), ('14_LiteralPropagation', pass_timings(init=1.4550023479387164e-06, run=5.754998710472137e-06, finalize=8.200004231184721e-07)), ('15_nopython_type_inference', pass_timings(init=1.1140000424347818e-06, run=0.0011618650023592636, finalize=1.405001967214048e-06)), ('16_strip_phis', pass_timings(init=1.329004589933902e-06, run=0.00014516100054606795, finalize=1.5280020306818187e-06)), ('17_inline_overloads', pass_timings(init=1.4650067896582186e-06, run=7.053199806250632e-05, finalize=1.3339958968572319e-06)), ('18_nopython_rewrites', pass_timings(init=1.186002918984741e-06, run=0.00034440800664015114, finalize=1.3660028344020247e-06)), ('19_nopython_supported_feature_validation', pass_timings(init=1.3809985830448568e-06, run=1.7831000150181353e-05, finalize=7.880007615312934e-07)), ('20_ir_legalization', pass_timings(init=1.1879965313710272e-06, run=0.0001317249989369884, finalize=1.091000740416348e-06)), ('21_annotate_types', pass_timings(init=1.1220035958103836e-06, run=3.168999683111906e-05, finalize=1.0950025171041489e-06)), ('22_native_lowering', pass_timings(init=1.0079966159537435e-06, run=0.02555636100441916, finalize=2.1559972083196044e-06)), ('23_nopython_backend', pass_timings(init=1.45800004247576e-06, run=3.486700006760657e-05, finalize=9.229988791048527e-07)), ('24_dump_parfor_diagnostics', pass_timings(init=8.549977792426944e-07, run=6.094000127632171e-06, finalize=8.189963409677148e-07))])}, 'prune_stats': PruneStats(basicblock=0, diamond=0, fanout=0, fanout_raise=0), 'llvm_pass_timings': <numba.misc.llvm_pass_timings.PassTimingsCollection object at 0x7f404a639520>, 'timers': {'llvm_lock': 0.014232637979148421, 'compiler_lock': 0.030738047003978863}}, reload_init=[], referenced_envs=None)),\n",
       "             ((float64,),\n",
       "              CompileResult(typing_context=<numba.core.typing.context.Context object at 0x7f40c8678be0>, target_context=<numba.core.cpu.CPUContext object at 0x7f407c0b93d0>, entry_point=<built-in method compute of _dynfunc._Closure object at 0x7f404a98ec40>, typing_error=None, type_annotation=<numba.core.annotations.type_annotations.TypeAnnotation object at 0x7f404aa8a970>, signature=(float64,) -> float64, objectmode=False, lifted=(), fndesc=<function descriptor 'compute$140'>, library=<Library 'compute' at 0x7f404a962a60>, call_helper=None, environment=<Environment '_ZN08NumbaEnv8__main__13compute_24140B46c8tJTIeFCjyCbUFRqqOAFv_2fYRdE1AT0EZmkCAA_3d_3dEd' >, metadata={'parfor_diagnostics': ParforDiagnostics, 'parfors': {}, 'pipeline_times': {'nopython': OrderedDict([('0_translate_bytecode', pass_timings(init=2.486995072104037e-06, run=0.00046471200039377436, finalize=1.7689962987788022e-06)), ('1_fixup_args', pass_timings(init=1.4350007404573262e-06, run=2.339998900424689e-06, finalize=6.859991117380559e-07)), ('2_ir_processing', pass_timings(init=8.550050552003086e-07, run=0.00012318399967625737, finalize=1.5190016711130738e-06)), ('3_with_lifting', pass_timings(init=1.1609954526647925e-06, run=4.270300269126892e-05, finalize=9.139985195361078e-07)), ('4_inline_closure_likes', pass_timings(init=1.043998054228723e-06, run=0.00047952299792086706, finalize=1.706001057755202e-06)), ('5_rewrite_semantic_constants', pass_timings(init=1.5870027709752321e-06, run=2.140500146197155e-05, finalize=8.810020517557859e-07)), ('6_dead_branch_prune', pass_timings(init=1.0669973562471569e-06, run=4.528199497144669e-05, finalize=8.179995347745717e-07)), ('7_generic_rewrites', pass_timings(init=7.370035746134818e-07, run=0.00015626000094925985, finalize=1.372005499433726e-06)), ('8_make_function_op_code_to_jit_function', pass_timings(init=1.2550008250400424e-06, run=8.09999619377777e-06, finalize=8.160059223882854e-07)), ('9_inline_inlinables', pass_timings(init=7.739945431239903e-07, run=2.0572006178554147e-05, finalize=8.380011422559619e-07)), ('10_dead_branch_prune', pass_timings(init=9.280047379434109e-07, run=4.256100510247052e-05, finalize=8.310016710311174e-07)), ('11_find_literally', pass_timings(init=1.2639939086511731e-06, run=8.085997251328081e-06, finalize=5.580004653893411e-07)), ('12_literal_unroll', pass_timings(init=7.650014595128596e-07, run=5.3440016927197576e-06, finalize=5.95995516050607e-07)), ('13_reconstruct_ssa', pass_timings(init=6.940026651136577e-07, run=0.000290198004222475, finalize=1.405998773407191e-06)), ('14_LiteralPropagation', pass_timings(init=1.4170000213198364e-06, run=5.9779995353892446e-06, finalize=7.810012903064489e-07)), ('15_nopython_type_inference', pass_timings(init=1.0289950296282768e-06, run=0.001324896002188325, finalize=1.2839955161325634e-06)), ('16_strip_phis', pass_timings(init=1.6210033209063113e-06, run=0.00014626900519942865, finalize=1.5900004655122757e-06)), ('17_inline_overloads', pass_timings(init=1.2950040400028229e-06, run=6.988400127738714e-05, finalize=1.2990058166906238e-06)), ('18_nopython_rewrites', pass_timings(init=1.2900054571218789e-06, run=0.00036039299448020756, finalize=1.5799960237927735e-06)), ('19_nopython_supported_feature_validation', pass_timings(init=1.4550023479387164e-06, run=1.7603997548576444e-05, finalize=8.559945854358375e-07)), ('20_ir_legalization', pass_timings(init=1.091000740416348e-06, run=0.00013513799785869196, finalize=1.0930016287602484e-06)), ('21_annotate_types', pass_timings(init=1.6449994291178882e-06, run=3.498699516057968e-05, finalize=1.0950025171041489e-06)), ('22_native_lowering', pass_timings(init=8.450006134808064e-07, run=0.02545827800349798, finalize=2.115004463121295e-06)), ('23_nopython_backend', pass_timings(init=1.4239994925446808e-06, run=3.510699752951041e-05, finalize=9.319992386735976e-07)), ('24_dump_parfor_diagnostics', pass_timings(init=9.509967640042305e-07, run=6.5540007199160755e-06, finalize=9.060022421181202e-07))])}, 'prune_stats': PruneStats(basicblock=0, diamond=0, fanout=0, fanout_raise=0), 'llvm_pass_timings': <numba.misc.llvm_pass_timings.PassTimingsCollection object at 0x7f404abc44c0>, 'timers': {'llvm_lock': 0.013663019075465854, 'compiler_lock': 0.03122624800016638}}, reload_init=[], referenced_envs=None))])"
      ]
     },
     "execution_count": 123,
     "metadata": {},
     "output_type": "execute_result"
    }
   ],
   "source": [
    "compute.overloads"
   ]
  },
  {
   "cell_type": "markdown",
   "id": "0f258e0a",
   "metadata": {
    "slideshow": {
     "slide_type": "subslide"
    }
   },
   "source": [
    "* __Note:__ When we call `compute.overloads` for 2nd time a `int64` data type gets attached to it. As and when we pass any other data type this information will be updated and the newer version of the function will be compiled and stored in cached with the new data type."
   ]
  },
  {
   "cell_type": "markdown",
   "id": "70b701d4",
   "metadata": {
    "slideshow": {
     "slide_type": "slide"
    }
   },
   "source": [
    "<h1><center>Rule of thumb for choosing a library</center></h1>\n",
    "\n",
    "![Rule of thumb](./tree_1.png)"
   ]
  },
  {
   "cell_type": "markdown",
   "id": "b93b34aa",
   "metadata": {
    "slideshow": {
     "slide_type": "slide"
    }
   },
   "source": [
    "<h1><center>Take away</center></h1>\n",
    "\n",
    "Three Takeaways,\n",
    "\n",
    "* If you have GPU(s), try CuPy first! \n",
    "* If you only have CPU, use Numba first\n",
    "  * Numba supports more NumPy functions\n",
    "  * If it works, try Pythran to get more performance \n",
    "* Each solution supports different number of NumPy functions.\n",
    "  * You can easily find out which function doesn't work (program stops :P )\n",
    "  * Check its document to see which functions are provided\n",
    "  * If A doesn't work, B might work! "
   ]
  },
  {
   "cell_type": "markdown",
   "id": "21afd586",
   "metadata": {
    "slideshow": {
     "slide_type": "slide"
    }
   },
   "source": [
    "<h1><center>Numba to LLVM 1</center></h1>\n",
    "\n",
    "![Numba to LLVM 1](./numba_to_llvm_1.png)"
   ]
  },
  {
   "cell_type": "markdown",
   "id": "fbed3dc2",
   "metadata": {
    "slideshow": {
     "slide_type": "slide"
    }
   },
   "source": [
    "<h1><center>Numba to LLVM 2</center></h1>\n",
    "\n",
    "![Numba to LLVM 2](./pycode_to_llvm.png)"
   ]
  },
  {
   "cell_type": "markdown",
   "id": "87f592c7",
   "metadata": {
    "slideshow": {
     "slide_type": "slide"
    }
   },
   "source": [
    "<h1><center>Glimps into llvm IR code as string</center></h1>"
   ]
  },
  {
   "cell_type": "code",
   "execution_count": 88,
   "id": "ab0af050",
   "metadata": {
    "slideshow": {
     "slide_type": "subslide"
    }
   },
   "outputs": [],
   "source": [
    "# TODO: Glimps into llvm IR code as string"
   ]
  },
  {
   "cell_type": "markdown",
   "id": "67b21377",
   "metadata": {
    "slideshow": {
     "slide_type": "slide"
    }
   },
   "source": [
    "<h1><center>Numba to Sales Folks</center></h1>\n",
    "\n",
    "![Numba to Sales Folks](./meme.png)"
   ]
  },
  {
   "cell_type": "markdown",
   "id": "0b0a0f82",
   "metadata": {
    "slideshow": {
     "slide_type": "slide"
    }
   },
   "source": [
    "<h1><center>numba ufuncs + vectorize</center></h1>"
   ]
  },
  {
   "cell_type": "code",
   "execution_count": 130,
   "id": "87b8facb",
   "metadata": {
    "slideshow": {
     "slide_type": "subslide"
    }
   },
   "outputs": [
    {
     "data": {
      "text/plain": [
       "array([ 2,  5,  9, 14])"
      ]
     },
     "execution_count": 130,
     "metadata": {},
     "output_type": "execute_result"
    }
   ],
   "source": [
    "# Numpy ufuncs (universal functions: add, sin from numpy)\n",
    "# Supports boradcasting, data type handelling, accumlate & reduce.\n",
    "# Those which operate on scalars, these are “universal functions” or ufuncs (see @vectorize below).\n",
    "\n",
    "np.add(1,2)\n",
    "np.add(1, [2,3])\n",
    "np.add([[1,2]],[[3],[4]])\n",
    "np.add.accumulate([2,3,4,5])\n",
    "\n",
    "# Numba ufuncs + vectorize\n",
    "# Write function for one elements, add static typing,\n",
    "@nb.vectorize(\"(int64, int64)\")\n",
    "def add(x, y):\n",
    "    return x + y\n",
    " \n",
    "add(1,2)\n",
    "add(1, [2,3,4])\n",
    "add.accumulate([2,3,4,5])\n",
    "\n",
    "# np testing: all_close"
   ]
  },
  {
   "cell_type": "markdown",
   "id": "05c00f9d",
   "metadata": {
    "slideshow": {
     "slide_type": "slide"
    }
   },
   "source": [
    "<h1><center>numba gufuncs + vectorize</center></h1>"
   ]
  },
  {
   "cell_type": "code",
   "execution_count": 131,
   "id": "550eb852",
   "metadata": {
    "slideshow": {
     "slide_type": "subslide"
    }
   },
   "outputs": [],
   "source": [
    "# Those which operate on higher dimensional arrays and scalars, these are \n",
    "# “generalized universal functions” or gufuncs (@guvectorize below).\n",
    "\n",
    "from math import sqrt\n",
    "from numba import njit, jit, guvectorize\n",
    "import timeit\n",
    "import numpy as np\n",
    "\n",
    "@njit\n",
    "def square_sum(arr):\n",
    "    a = 0.\n",
    "    for i in range(arr.size):\n",
    "        a = sqrt(a**2 + arr[i]**2)  # sqrt and square are cpu-intensive!\n",
    "    return a\n",
    "\n",
    "@guvectorize([\"void(float64[:], float64[:])\"], \"(n) -> ()\", target=\"parallel\", nopython=True)\n",
    "def row_sum_gu(input, output) :\n",
    "    output[0] = square_sum(input)\n",
    "\n",
    "@jit(nopython=True)\n",
    "def row_sum_jit(input_array, output_array) :\n",
    "    m, n = input_array.shape\n",
    "    for i in range(m) :\n",
    "        output_array[i] = square_sum(input_array[i,:])\n",
    "    return output_array"
   ]
  },
  {
   "cell_type": "code",
   "execution_count": 132,
   "id": "934ef838",
   "metadata": {
    "slideshow": {
     "slide_type": "subslide"
    }
   },
   "outputs": [
    {
     "name": "stdout",
     "output_type": "stream",
     "text": [
      "484 ms ± 1.51 ms per loop (mean ± std. dev. of 7 runs, 1 loop each)\n",
      "50.5 ms ± 643 µs per loop (mean ± std. dev. of 7 runs, 10 loops each)\n"
     ]
    }
   ],
   "source": [
    "rows = int(64)\n",
    "columns = int(1e6)\n",
    "\n",
    "input_array = np.random.random((rows, columns))\n",
    "output_array = np.zeros((rows))\n",
    "output_array2 = np.zeros((rows))\n",
    "\n",
    "np.testing.assert_equal(row_sum_jit(input_array, output_array), row_sum_gu(input_array, output_array2))\n",
    "%timeit row_sum_jit(input_array, output_array.copy())\n",
    "%timeit row_sum_gu(input_array, output_array.copy())"
   ]
  },
  {
   "cell_type": "markdown",
   "id": "3f611dab",
   "metadata": {
    "slideshow": {
     "slide_type": "slide"
    }
   },
   "source": [
    "<h1><center>numba stencil</center></h1>"
   ]
  },
  {
   "cell_type": "code",
   "execution_count": 77,
   "id": "5e7009e2",
   "metadata": {
    "slideshow": {
     "slide_type": "subslide"
    }
   },
   "outputs": [],
   "source": [
    "import numpy as np\n",
    "from numba import stencil\n",
    "\n",
    "def conv_op(a, b):\n",
    "    for i in range(a.shape[0]):\n",
    "        if i-1 < 0 or i+1 >= a.shape[0]:\n",
    "            b[i] = 0\n",
    "        else:\n",
    "            b[i] = a[i-1] + a[i] + a[i+1]"
   ]
  },
  {
   "cell_type": "code",
   "execution_count": 78,
   "id": "b8bb6386",
   "metadata": {
    "slideshow": {
     "slide_type": "subslide"
    }
   },
   "outputs": [
    {
     "name": "stdout",
     "output_type": "stream",
     "text": [
      "CPU times: user 565 ms, sys: 3.95 ms, total: 569 ms\n",
      "Wall time: 568 ms\n"
     ]
    }
   ],
   "source": [
    "input_arr = np.arange(1_000_000)\n",
    "output_arr = np.empty_like(input_arr)\n",
    "\n",
    "%time conv_op(input_arr,output_arr)"
   ]
  },
  {
   "cell_type": "code",
   "execution_count": 79,
   "id": "92979ed7",
   "metadata": {
    "slideshow": {
     "slide_type": "subslide"
    }
   },
   "outputs": [],
   "source": [
    "@stencil\n",
    "def conv_op(a):\n",
    "    return a[-1] + a[0] + a[1]"
   ]
  },
  {
   "cell_type": "code",
   "execution_count": 82,
   "id": "bc2c4a90",
   "metadata": {
    "slideshow": {
     "slide_type": "subslide"
    }
   },
   "outputs": [
    {
     "name": "stdout",
     "output_type": "stream",
     "text": [
      "CPU times: user 117 ms, sys: 43 µs, total: 117 ms\n",
      "Wall time: 115 ms\n",
      "CPU times: user 91.5 ms, sys: 0 ns, total: 91.5 ms\n",
      "Wall time: 91.5 ms\n",
      "CPU times: user 91.4 ms, sys: 0 ns, total: 91.4 ms\n",
      "Wall time: 91.4 ms\n"
     ]
    }
   ],
   "source": [
    "%time output_arr = conv_op(input_arr)\n",
    "%time output_arr = conv_op(input_arr)\n",
    "%time output_arr = conv_op(input_arr)\n",
    "\n",
    "# Reference:\n",
    "# https://coderzcolumn.com/tutorials/python/numba-stencil-decorator\n",
    "# TODO:\n",
    "# http://jakevdp.github.io/blog/2013/08/07/conways-game-of-life/\n",
    "# https://towardsdatascience.com/math-neural-network-from-scratch-in-python-d6da9f29ce65"
   ]
  },
  {
   "cell_type": "markdown",
   "id": "5b996852",
   "metadata": {
    "slideshow": {
     "slide_type": "slide"
    }
   },
   "source": [
    "<h1><center>numba cfunc</center></h1>"
   ]
  },
  {
   "cell_type": "code",
   "execution_count": 81,
   "id": "2751edff",
   "metadata": {
    "slideshow": {
     "slide_type": "subslide"
    }
   },
   "outputs": [
    {
     "name": "stdout",
     "output_type": "stream",
     "text": [
      "9.0\n"
     ]
    }
   ],
   "source": [
    "from numba import cfunc\n",
    "\n",
    "@cfunc(\"float64(float64, float64)\")\n",
    "def c_add(x, y):\n",
    "    return x + y\n",
    "\n",
    "print(c_add.ctypes(4.0, 5.0))"
   ]
  },
  {
   "cell_type": "markdown",
   "id": "286b7a88",
   "metadata": {
    "slideshow": {
     "slide_type": "slide"
    }
   },
   "source": [
    "<h1><center>CUDA as target backend</center></h1>"
   ]
  },
  {
   "cell_type": "code",
   "execution_count": 68,
   "id": "083013dd",
   "metadata": {
    "slideshow": {
     "slide_type": "subslide"
    }
   },
   "outputs": [],
   "source": [
    "from numba import cuda\n",
    "\n",
    "@cuda.jit\n",
    "def multiply(a, b, c): \n",
    "    i1, i2 = cuda.grid(2)\n",
    "    the_sum = 0\n",
    "    for k in range(b.shape[0]):\n",
    "        the_sum += a[i1][k]*b[k][i2]\n",
    "    c[i1, i2] = the_sum"
   ]
  },
  {
   "cell_type": "code",
   "execution_count": 67,
   "id": "301d5ee6",
   "metadata": {
    "slideshow": {
     "slide_type": "subslide"
    }
   },
   "outputs": [
    {
     "name": "stdout",
     "output_type": "stream",
     "text": [
      "[[20. 23. 26. 29.]\n",
      " [56. 68. 80. 92.]]\n"
     ]
    },
    {
     "name": "stderr",
     "output_type": "stream",
     "text": [
      "/home/abinbev/anaconda3/envs/gpu_stack/lib/python3.8/site-packages/numba/cuda/compiler.py:726: NumbaPerformanceWarning: Grid size (1) < 2 * SM count (8) will likely result in GPU under utilization due to low occupancy.\n",
      "  warn(NumbaPerformanceWarning(msg))\n"
     ]
    }
   ],
   "source": [
    "a = np.arange(6).reshape(2,3)\n",
    "b = np.arange(12).reshape(3,4)\n",
    "\n",
    "d_a = cuda.to_device(a) # Sending stuff to GPU\n",
    "d_b = cuda.to_device(b) # Sending stuff to GPU\n",
    "c = np.zeros((a.shape[0], b.shape[1]))\n",
    "d_c = cuda.to_device(c) # Sending stuff to GPU\n",
    "multiply[(1,), (2,4)](d_a, d_b, d_c)\n",
    "print(d_c.copy_to_host()) # Getting things back in host"
   ]
  },
  {
   "cell_type": "markdown",
   "id": "f6c96e7c",
   "metadata": {
    "slideshow": {
     "slide_type": "slide"
    }
   },
   "source": [
    "<h1><center>How to check single & packed instructions</center></h1>"
   ]
  },
  {
   "cell_type": "code",
   "execution_count": 84,
   "id": "57c98f31",
   "metadata": {
    "slideshow": {
     "slide_type": "subslide"
    }
   },
   "outputs": [],
   "source": [
    "# Check NB 2"
   ]
  },
  {
   "cell_type": "markdown",
   "id": "50d0151c",
   "metadata": {
    "slideshow": {
     "slide_type": "slide"
    }
   },
   "source": [
    "<h1><center>Using Numba with Pandas</center></h1>"
   ]
  },
  {
   "cell_type": "code",
   "execution_count": 83,
   "id": "512972b3",
   "metadata": {},
   "outputs": [
    {
     "name": "stdout",
     "output_type": "stream",
     "text": [
      "387 ms ± 0 ns per loop (mean ± std. dev. of 1 run, 1 loop each)\n"
     ]
    }
   ],
   "source": [
    "import pandas as pd\n",
    "data = pd.Series(range(1_000_000))\n",
    "roll = data.rolling(10)\n",
    "def f(x):\n",
    "    return np.sum(x) + 5\n",
    "%timeit -r 1 -n 1 roll.apply(f, engine='numba', raw=True)"
   ]
  },
  {
   "cell_type": "markdown",
   "id": "471ef0ed",
   "metadata": {
    "slideshow": {
     "slide_type": "slide"
    }
   },
   "source": [
    "<h1><center>My two cents regarding using numba</center></h1>\n",
    "\n",
    "* Numba functions takes more time to compile function 1st time. Do not be surprised. \n",
    "* If your function fallsback to object mode during unboxing, it may lead to slower execution. If you want to ensure that this does not happen, either use `njit` or `jit(nopython=True)`. If you are using `jit` take a close look at the warnings. By the way, `@jit(nopython=True)` and `@njit` are the same thing.\n",
    "* Do not use python list. Use numpy arrays for scientific computing.\n",
    "* Whenever possible use `@vectorize`. Write a function as scaler. Use `@vectorize`. It will work for scaler & vector both. `ufuncs` & `vectorize` has to be used togather.\n",
    "* When writing developing optimized code. Note that things will not be pythonic always. It will be more C-ish and Fortran like code. But thats alright. For example, `for index in indexes` will change to `for index in range(len(indexes))`.\n",
    "* `float32`'s are great. Use it wherever possible.\n",
    "* Remember numba supports limited functions. A good starting point is to check numba support for numpy & python.\n",
    "* To use all threads using `@njit(nogil=True)`. If you don't want use it, you will not be benefited from using `ThreadPoolExecutor`.\n",
    "* Using thread pool executor is same as using `parallel=True` flag in `@njit` decorator. Make sure the problem is `embarrassingly parallel`. In case if you are using this use `prange` in place of `range` and install TBB."
   ]
  },
  {
   "cell_type": "markdown",
   "id": "c4867409",
   "metadata": {
    "slideshow": {
     "slide_type": "slide"
    }
   },
   "source": [
    "* If you don't care much about floating point precision `fastmath=True` is your friend.\n",
    "* LLVM takes care of the backend and different architecture. Hence if you want to leverage GPU or CPU, it is less stressful.\n",
    "* To check all the dependencies use `numba -s`.\n",
    "* MKL, BLAS, SVML, TBB is great explore them. If you have intel CPU MKL + Intel Python is great to generate synthetic data.\n",
    "* If have CUDA enabled GPU used, `target='cuda'`.\n",
    "* `numba.stencil` is great for convolution or sliding window or any other neighborhood computation. For C callbacks use `numba.cfunc`\n",
    "* There is a test suite present in numpy with all sort of numerical comparison. Wherever possible use that.\n",
    "* Measure, measure & measure. Snakeviz is a good profiler if you prefer web UIs. Prioritize what needs to be optimized.\n",
    "* deepcopy does not work with numba.\n",
    "* Talk about default profiler which comes with numba. `from time import pref_counter`. `foo.py_func()` we can use to call python function.\n",
    "* Talk about single and multiple instructions in numba.\n",
    "* Example that how we are using this to calculate DTW distance using numba in multiplier.\n",
    "* NOTE: `pdb` does not work out of the box with numba."
   ]
  }
 ],
 "metadata": {
  "celltoolbar": "Slideshow",
  "kernelspec": {
   "display_name": "Python [conda env:gpu_stack] *",
   "language": "python",
   "name": "conda-env-gpu_stack-py"
  },
  "language_info": {
   "codemirror_mode": {
    "name": "ipython",
    "version": 3
   },
   "file_extension": ".py",
   "mimetype": "text/x-python",
   "name": "python",
   "nbconvert_exporter": "python",
   "pygments_lexer": "ipython3",
   "version": "3.8.13"
  }
 },
 "nbformat": 4,
 "nbformat_minor": 5
}
