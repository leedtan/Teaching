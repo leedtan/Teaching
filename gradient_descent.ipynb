{
 "cells": [
  {
   "cell_type": "code",
   "execution_count": 1,
   "id": "fa5c96a8",
   "metadata": {},
   "outputs": [],
   "source": [
    "import numpy as np\n",
    "import pandas as pd\n",
    "import matplotlib.pyplot as plt\n",
    "import random"
   ]
  },
  {
   "cell_type": "code",
   "execution_count": 2,
   "id": "03918b8e",
   "metadata": {},
   "outputs": [],
   "source": [
    "\n",
    "random.seed(0)\n",
    "np.random.seed(0)\n",
    "num_data = 10000\n",
    "num_features = 10\n",
    "x = np.random.randn(num_data, num_features)\n",
    "weights = np.random.randn(num_features)\n",
    "bias = 5.0\n",
    "# w = np.zeros(num_features)\n",
    "# b = np.zeros(1)\n",
    "y = x @ weights + bias + np.random.randn(num_data) * 0.0 + (x.sum(1) > 0) * .5 + \\\n",
    "    (x[:,2] > .2) * 13.5 + (x[:,1] * x[:,2]) * 5.0\n",
    "y = (y - y.mean())/ (y.std())"
   ]
  },
  {
   "cell_type": "code",
   "execution_count": 3,
   "id": "6257f7f2",
   "metadata": {},
   "outputs": [],
   "source": [
    "## **** Alternative (XOR) dataset\n",
    "# num_data = 100\n",
    "# num_features = 2\n",
    "# x = np.random.randint(2, size=(num_data, num_features))\n",
    "# y = (x.sum(1) % 2 == 1).astype(float)"
   ]
  },
  {
   "cell_type": "code",
   "execution_count": 4,
   "id": "c42b68c6",
   "metadata": {},
   "outputs": [],
   "source": [
    "## ****  This was our V1 linear regression model\n",
    "# losses = []\n",
    "# for _ in range(1000):\n",
    "#     yhat = x @ w + b\n",
    "#     err = y - yhat\n",
    "#     w = w + (err @ x) * 1e-5\n",
    "#     loss = np.square(err).mean()\n",
    "#     losses.append(loss)\n",
    "#     b += err.sum() * 1e-5"
   ]
  },
  {
   "cell_type": "code",
   "execution_count": 5,
   "id": "360d39c5",
   "metadata": {},
   "outputs": [],
   "source": [
    "# gradient = how much do you want to impact the prediction * how much does your change impact the prediction\n",
    "# gradient = desired_impact_change * effectiveness_of_changing_parameter"
   ]
  },
  {
   "cell_type": "code",
   "execution_count": 6,
   "id": "fc042a42",
   "metadata": {},
   "outputs": [],
   "source": [
    "# 1 - fully implement current codebase\n",
    "#     - start with code cleaning, then implement momentum\n",
    "#     ** - Lee code cleans offline, group implments momentum, nesterov momentum, minibatch sampling\n",
    "# 2- implement convolution and stuff like it in numpy\n",
    "# 3- conv in tensorflow"
   ]
  },
  {
   "cell_type": "code",
   "execution_count": 7,
   "id": "676f5bc5",
   "metadata": {},
   "outputs": [],
   "source": [
    "class LeakyRelu:\n",
    "    def __init__(self):\n",
    "        pass\n",
    "    def forward(self, x):\n",
    "        self.x_last = x\n",
    "        ret = np.maximum(x, .3 * x)\n",
    "        return ret\n",
    "    def backward(self, err, *args, **kwargs):\n",
    "        return err * ((self.x_last > 0) + (self.x_last < 0) * .3)"
   ]
  },
  {
   "cell_type": "code",
   "execution_count": 8,
   "id": "32c1a5e2",
   "metadata": {},
   "outputs": [],
   "source": [
    "class DenseNp:\n",
    "    def __init__(self, in_shape, out_shape, l2_reg = 1e-5, initialization = 'xavier'):\n",
    "        self.l2_reg = l2_reg\n",
    "        self.w = np.random.randn(in_shape, out_shape)\n",
    "        if initialization == 'xavier':\n",
    "            self.w = self.w * np.sqrt(6) / np.sqrt(in_shape + out_shape)\n",
    "        self.b = np.random.randn(out_shape)/out_shape\n",
    "    def forward(self, x):\n",
    "        self.x_last = x\n",
    "        ret = x @ self.w + self.b\n",
    "        return ret\n",
    "    def backward(self, err, lr):\n",
    "        if len(err.shape) < 2:\n",
    "            err = err[:, None]\n",
    "        grad_backward = err @ self.w.T\n",
    "        self.w = self.w +  ((self.x_last.T @ err) - self.l2_reg * self.w) * lr\n",
    "        self.b = self.b + err.sum(0) * lr\n",
    "        return grad_backward"
   ]
  },
  {
   "cell_type": "code",
   "execution_count": 9,
   "id": "2ef2b67e",
   "metadata": {},
   "outputs": [],
   "source": [
    "class Model:\n",
    "    def __init__(self, layer_shapes, lr = 1e-3):\n",
    "        self.lr = lr\n",
    "        self.losses = []\n",
    "        self.layers = []\n",
    "        for in_shape, out_shape in zip(layer_shapes[:-1], layer_shapes[1:]):\n",
    "            self.layers.append(DenseNp(in_shape, out_shape))\n",
    "            self.layers.append(LeakyRelu())\n",
    "        self.layers = self.layers[:-1]\n",
    "    def predict(self, x):\n",
    "        for layer in self.layers:\n",
    "            x = layer.forward(x)\n",
    "        return x\n",
    "    \n",
    "    def loss(self, x = None, y= None, err = None):\n",
    "        if err is None:\n",
    "            err = self.err(x, y)\n",
    "        return np.square(err).mean()\n",
    "    \n",
    "    def err(self, x, y):\n",
    "        yhat = self.predict(x)\n",
    "        return (y - yhat)\n",
    "        \n",
    "    def train_fullbatch(self, x, y, steps):\n",
    "        \n",
    "        for step in range(steps):\n",
    "            err = self.err(x, y)\n",
    "            self.losses.append(self.loss(err = err))\n",
    "            grad_layer = err / y.shape[0]\n",
    "            for layer in self.layers[::-1]:\n",
    "                grad_layer = layer.backward(grad_layer, lr = self.lr)\n",
    "            \n",
    "        \n",
    "        \n",
    "    def train_minibatch(self, x, y, epochs):\n",
    "        raise NotImplementedError('implement minibatch training')\n",
    "        for epoch in epochs:\n",
    "            self.train_one_epoch(x, y)\n",
    "        \n",
    "    def train(self, x, y, steps, style = 'fullbatch'):\n",
    "        {'minibatch': self.train_minibatch, 'fullbatch': self.train_fullbatch}[style](x, y, steps)\n",
    "    def viz(self, skip_first = 0):\n",
    "        plt.plot(self.losses[skip_first:])"
   ]
  },
  {
   "cell_type": "code",
   "execution_count": 10,
   "id": "e4415526",
   "metadata": {},
   "outputs": [],
   "source": [
    "mdl = Model([num_features, 16, 16, 1])"
   ]
  },
  {
   "cell_type": "code",
   "execution_count": 11,
   "id": "b3ac4918",
   "metadata": {
    "scrolled": true
   },
   "outputs": [],
   "source": [
    "mdl.train(x, y[:,None],5000 )"
   ]
  },
  {
   "cell_type": "code",
   "execution_count": 12,
   "id": "3e5486d8",
   "metadata": {},
   "outputs": [
    {
     "data": {
      "text/plain": [
       "0.014357825916898138"
      ]
     },
     "execution_count": 12,
     "metadata": {},
     "output_type": "execute_result"
    }
   ],
   "source": [
    "mdl.predict(x).mean()"
   ]
  },
  {
   "cell_type": "code",
   "execution_count": 13,
   "id": "d97104bf",
   "metadata": {},
   "outputs": [
    {
     "data": {
      "text/plain": [
       "[0.217437956641922, 0.1598173239439949, 0.36292699759578606]"
      ]
     },
     "execution_count": 13,
     "metadata": {},
     "output_type": "execute_result"
    }
   ],
   "source": [
    "[np.square(layer.w).mean() for layer in mdl.layers if hasattr(layer, 'w')]"
   ]
  },
  {
   "cell_type": "code",
   "execution_count": 14,
   "id": "879e71d6",
   "metadata": {
    "scrolled": true
   },
   "outputs": [
    {
     "data": {
      "text/plain": [
       "[0.9946889389001113,\n",
       " 2.1653722719460373,\n",
       " 1.1748556385359987,\n",
       " 2.858666484491543,\n",
       " 1.3575026298693773]"
      ]
     },
     "execution_count": 14,
     "metadata": {},
     "output_type": "execute_result"
    }
   ],
   "source": [
    "[np.square(layer.x_last).mean() for layer in mdl.layers]"
   ]
  },
  {
   "cell_type": "code",
   "execution_count": 17,
   "id": "32594077",
   "metadata": {},
   "outputs": [
    {
     "data": {
      "text/plain": [
       "<matplotlib.collections.PathCollection at 0x1b1cab2f520>"
      ]
     },
     "execution_count": 17,
     "metadata": {},
     "output_type": "execute_result"
    },
    {
     "data": {
      "image/png": "[encoded data removed]",
      "text/plain": [
       "<Figure size 432x288 with 1 Axes>"
      ]
     },
     "metadata": {
      "needs_background": "light"
     },
     "output_type": "display_data"
    }
   ],
   "source": [
    "plt.scatter(mdl.predict(x), y)"
   ]
  },
  {
   "cell_type": "code",
   "execution_count": 18,
   "id": "d10b5d01",
   "metadata": {},
   "outputs": [
    {
     "data": {
      "image/png": "[encoded data removed]",
      "text/plain": [
       "<Figure size 432x288 with 1 Axes>"
      ]
     },
     "metadata": {
      "needs_background": "light"
     },
     "output_type": "display_data"
    }
   ],
   "source": [
    "mdl.viz(skip_first = 50)"
   ]
  },
  {
   "cell_type": "code",
   "execution_count": 19,
   "id": "d9d6a341",
   "metadata": {
    "scrolled": false
   },
   "outputs": [
    {
     "data": {
      "text/plain": [
       "0.444887187629615"
      ]
     },
     "execution_count": 19,
     "metadata": {},
     "output_type": "execute_result"
    }
   ],
   "source": [
    "mdl.losses[-1]"
   ]
  },
  {
   "cell_type": "code",
   "execution_count": 20,
   "id": "6301cb59",
   "metadata": {
    "scrolled": false
   },
   "outputs": [
    {
     "data": {
      "text/plain": [
       "0.5648808816196393"
      ]
     },
     "execution_count": 20,
     "metadata": {},
     "output_type": "execute_result"
    }
   ],
   "source": [
    "from sklearn.linear_model import Ridge\n",
    "baseline = Ridge().fit(x, y)\n",
    "yhat = baseline.predict(x)\n",
    "np.square(yhat - y).mean()"
   ]
  },
  {
   "cell_type": "code",
   "execution_count": 21,
   "id": "8397a259",
   "metadata": {
    "scrolled": false
   },
   "outputs": [
    {
     "data": {
      "text/plain": [
       "0.4448478283361507"
      ]
     },
     "execution_count": 21,
     "metadata": {},
     "output_type": "execute_result"
    }
   ],
   "source": [
    "mdl.loss(x, y[:,None])"
   ]
  },
  {
   "cell_type": "code",
   "execution_count": null,
   "id": "9d16423f",
   "metadata": {},
   "outputs": [],
   "source": []
  },
  {
   "cell_type": "code",
   "execution_count": null,
   "id": "67b4b1dd",
   "metadata": {},
   "outputs": [],
   "source": []
  }
 ],
 "metadata": {
  "kernelspec": {
   "display_name": "Python 3 (ipykernel)",
   "language": "python",
   "name": "python3"
  },
  "language_info": {
   "codemirror_mode": {
    "name": "ipython",
    "version": 3
   },
   "file_extension": ".py",
   "mimetype": "text/x-python",
   "name": "python",
   "nbconvert_exporter": "python",
   "pygments_lexer": "ipython3",
   "version": "3.8.11"
  }
 },
 "nbformat": 4,
 "nbformat_minor": 5
}
