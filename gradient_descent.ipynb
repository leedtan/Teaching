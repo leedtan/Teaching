{
 "cells": [
  {
   "cell_type": "code",
   "execution_count": 1,
   "id": "fa5c96a8",
   "metadata": {},
   "outputs": [],
   "source": [
    "import numpy as np\n",
    "import pandas as pd\n",
    "import matplotlib.pyplot as plt\n",
    "import random"
   ]
  },
  {
   "cell_type": "code",
   "execution_count": 181,
   "id": "03918b8e",
   "metadata": {},
   "outputs": [],
   "source": [
    "\n",
    "random.seed(0)\n",
    "np.random.seed(0)\n",
    "num_data = 10000\n",
    "num_features = 10\n",
    "x = np.random.randn(num_data, num_features)\n",
    "weights = np.random.randn(num_features)\n",
    "bias = 5.0\n",
    "# w = np.zeros(num_features)\n",
    "# b = np.zeros(1)\n",
    "y = x @ weights + bias + np.random.randn(num_data) * 0.0 + (x.sum(1) > 0) * .5 + \\\n",
    "    (x[:,2] > .2) * 13.5 + (x[:,1] * x[:,2]) * 5.0\n",
    "y = (y - y.mean())/ (y.std())"
   ]
  },
  {
   "cell_type": "code",
   "execution_count": 182,
   "id": "6257f7f2",
   "metadata": {},
   "outputs": [],
   "source": [
    "# ## **** Alternative (XOR) dataset\n",
    "# num_data = 100\n",
    "# num_features = 2\n",
    "# x = np.random.randint(2, size=(num_data, num_features))\n",
    "# y = (x.sum(1) % 2 == 1).astype(float) + np.random.randn(num_data)/10\n",
    "# x = x + np.random.randn(num_data, num_features)/10\n",
    "# df = pd.DataFrame(x)\n",
    "# df['z'] = y\n",
    "# import plotly.express as px\n",
    "# fig = px.scatter_3d(df, x=0, y=1, z='z')\n",
    "# fig.show()"
   ]
  },
  {
   "cell_type": "code",
   "execution_count": 183,
   "id": "c42b68c6",
   "metadata": {},
   "outputs": [],
   "source": [
    "## ****  This was our V1 linear regression model\n",
    "# losses = []\n",
    "# for _ in range(1000):\n",
    "#     yhat = x @ w + b\n",
    "#     err = y - yhat\n",
    "#     w = w + (err @ x) * 1e-5\n",
    "#     loss = np.square(err).mean()\n",
    "#     losses.append(loss)\n",
    "#     b += err.sum() * 1e-5"
   ]
  },
  {
   "cell_type": "code",
   "execution_count": 184,
   "id": "360d39c5",
   "metadata": {},
   "outputs": [],
   "source": [
    "# gradient = how much do you want to impact the prediction * how much does your change impact the prediction\n",
    "# gradient = desired_impact_change * effectiveness_of_changing_parameter"
   ]
  },
  {
   "cell_type": "code",
   "execution_count": 185,
   "id": "fc042a42",
   "metadata": {},
   "outputs": [],
   "source": [
    "# 1 - fully implement current codebase\n",
    "#     - start with code cleaning, then implement momentum\n",
    "#     - Lee code cleans offline, group implments momentum, nesterov momentum, minibatch sampling\n",
    "# 2- ** conv in tensorflow\n",
    "# 3- implement convolution and stuff like it in numpy"
   ]
  },
  {
   "cell_type": "code",
   "execution_count": 186,
   "id": "676f5bc5",
   "metadata": {},
   "outputs": [],
   "source": [
    "class LeakyRelu:\n",
    "    def __init__(self):\n",
    "        pass\n",
    "    def forward(self, x):\n",
    "        self.x_last = x\n",
    "        ret = np.maximum(x, .3 * x)\n",
    "        return ret\n",
    "    def backward(self, err, *args, **kwargs):\n",
    "        return err * ((self.x_last > 0) + (self.x_last < 0) * .3)"
   ]
  },
  {
   "cell_type": "code",
   "execution_count": 187,
   "id": "32c1a5e2",
   "metadata": {},
   "outputs": [],
   "source": [
    "class DenseNp:\n",
    "    def __init__(self, in_shape, out_shape, l2_reg = 1e-5, initialization = 'xavier', momentum = 0.0,\n",
    "                nesterov = True):\n",
    "        self.nesterov = nesterov\n",
    "        self.l2_reg = l2_reg\n",
    "        self.momentum = momentum\n",
    "        self.w = np.random.randn(in_shape, out_shape)\n",
    "        if initialization == 'xavier':\n",
    "            self.w = self.w * np.sqrt(6) / np.sqrt(in_shape + out_shape)\n",
    "        self.b = np.random.randn(out_shape)/out_shape\n",
    "        if momentum >0:\n",
    "            self.w_vel = np.zeros_like(self.w)\n",
    "            self.b_vel = np.zeros_like(self.b)\n",
    "        \n",
    "    def forward(self, x):\n",
    "        self.x_last = x\n",
    "        if self.nesterov:\n",
    "            self.w = self.w + self.w_vel * self.momentum\n",
    "            self.b = self.b + self.b_vel * self.momentum\n",
    "        ret = x @ self.w + self.b\n",
    "        return ret\n",
    "    def backward(self, err, lr):\n",
    "        if len(err.shape) < 2:\n",
    "            err = err[:, None]\n",
    "        grad_backward = err @ self.w.T\n",
    "        if self.momentum == 0:\n",
    "            self.w = self.w +  ((self.x_last.T @ err) - self.l2_reg * self.w) * lr\n",
    "            self.b = self.b + err.sum(0) * lr\n",
    "        else:\n",
    "            self.w_vel = self.w_vel * self.momentum +  (\n",
    "                (self.x_last.T @ err) - self.l2_reg * self.w) * (1- self.momentum) * lr\n",
    "            self.b_vel = self.b_vel * self.momentum + err.sum(0) * (1- self.momentum) * lr\n",
    "            if self.nesterov:\n",
    "                self.w += ((self.x_last.T @ err) - self.l2_reg * self.w) * (1- self.momentum) * lr\n",
    "                self.b += err.sum(0) * (1- self.momentum) * lr\n",
    "            else:\n",
    "                self.w += self.w_vel\n",
    "                self.b += self.b_vel\n",
    "\n",
    "        return grad_backward"
   ]
  },
  {
   "cell_type": "code",
   "execution_count": 188,
   "id": "2ef2b67e",
   "metadata": {},
   "outputs": [],
   "source": [
    "class Model:\n",
    "    def __init__(self, layer_shapes, lr = 1e-1, momentum = 0.0):\n",
    "        self.lr = lr\n",
    "        self.losses = []\n",
    "        self.layers = []\n",
    "        for in_shape, out_shape in zip(layer_shapes[:-1], layer_shapes[1:]):\n",
    "            self.layers.append(DenseNp(in_shape, out_shape, momentum = momentum))\n",
    "            self.layers.append(LeakyRelu())\n",
    "        self.layers = self.layers[:-1]\n",
    "    def predict(self, x):\n",
    "        for layer in self.layers:\n",
    "            x = layer.forward(x)\n",
    "        return x\n",
    "    \n",
    "    def loss(self, x = None, y= None, err = None):\n",
    "        if err is None:\n",
    "            err = self.err(x, y)\n",
    "        return np.square(err).mean()\n",
    "    \n",
    "    def err(self, x, y):\n",
    "        yhat = self.predict(x)\n",
    "        return (y - yhat)\n",
    "#     def backprop(grad_output):\n",
    "        \n",
    "        \n",
    "    def train_fullbatch(self, x, y, steps, **kwargs):\n",
    "        \n",
    "        for step in range(steps):\n",
    "            err = self.err(x, y)\n",
    "            self.losses.append(self.loss(err = err))\n",
    "            grad_layer = err / y.shape[0]\n",
    "            for layer in self.layers[::-1]:\n",
    "                grad_layer = layer.backward(grad_layer, lr = self.lr)\n",
    "            \n",
    "    def train_one_epoch(self, x, y, batch_size):\n",
    "        data_order = np.random.choice(x.shape[0], x.shape[0], replace=False)\n",
    "        num_batch = x.shape[0]//batch_size\n",
    "        minibatch_losses = 0\n",
    "        for batch_idx in range(num_batch):\n",
    "            if batch_idx == num_batch - 1:\n",
    "                sample_idxs = data_order[batch_idx * batch_size:]\n",
    "            else:\n",
    "                sample_idxs = data_order[batch_idx * batch_size: (batch_idx + 1) * batch_size]\n",
    "            x_sample = x[sample_idxs]\n",
    "            y_sample = y[sample_idxs]\n",
    "            err = self.err(x_sample, y_sample)\n",
    "            minibatch_losses += self.loss(err = err)\n",
    "            grad_layer = err / y_sample.shape[0]\n",
    "            for layer in self.layers[::-1]:\n",
    "                grad_layer = layer.backward(grad_layer, lr = self.lr)\n",
    "        self.losses.append(minibatch_losses)\n",
    "        \n",
    "        \n",
    "    def train_minibatch(self, x, y, epochs, batch_size = 64):\n",
    "        for epoch in range(epochs):\n",
    "            self.train_one_epoch(x, y, batch_size = batch_size)\n",
    "        \n",
    "    def train(self, x, y, steps, style = 'fullbatch', **kwargs):\n",
    "        {'minibatch': self.train_minibatch, 'fullbatch': self.train_fullbatch}[style](x, y, steps, **kwargs)\n",
    "    def viz(self, skip_first = 0):\n",
    "        plt.plot(self.losses[skip_first:])"
   ]
  },
  {
   "cell_type": "code",
   "execution_count": 189,
   "id": "e4415526",
   "metadata": {},
   "outputs": [],
   "source": [
    "mdl = Model([num_features, 16, 16, 1], momentum = .9)"
   ]
  },
  {
   "cell_type": "code",
   "execution_count": 190,
   "id": "b3ac4918",
   "metadata": {
    "scrolled": true
   },
   "outputs": [],
   "source": [
    "mdl.train(x, y[:,None],1000 , style = 'minibatch')"
   ]
  },
  {
   "cell_type": "code",
   "execution_count": 191,
   "id": "d97104bf",
   "metadata": {},
   "outputs": [
    {
     "data": {
      "text/plain": [
       "[0.235509493488442, 0.1852976205338021, 1.0412786150079154]"
      ]
     },
     "execution_count": 191,
     "metadata": {},
     "output_type": "execute_result"
    }
   ],
   "source": [
    "[np.square(layer.w).mean() for layer in mdl.layers if hasattr(layer, 'w')]"
   ]
  },
  {
   "cell_type": "code",
   "execution_count": 192,
   "id": "879e71d6",
   "metadata": {
    "scrolled": true
   },
   "outputs": [
    {
     "data": {
      "text/plain": [
       "[1.0201818464696755,\n",
       " 2.8861608065230246,\n",
       " 1.895767446480646,\n",
       " 27.971203838916477,\n",
       " 4.561471530670049]"
      ]
     },
     "execution_count": 192,
     "metadata": {},
     "output_type": "execute_result"
    }
   ],
   "source": [
    "[np.square(layer.x_last).mean() for layer in mdl.layers]"
   ]
  },
  {
   "cell_type": "code",
   "execution_count": 193,
   "id": "32594077",
   "metadata": {},
   "outputs": [
    {
     "data": {
      "text/plain": [
       "<matplotlib.collections.PathCollection at 0x263a8436dc0>"
      ]
     },
     "execution_count": 193,
     "metadata": {},
     "output_type": "execute_result"
    },
    {
     "data": {
      "image/png": "[encoded data removed]",
      "text/plain": [
       "<Figure size 432x288 with 1 Axes>"
      ]
     },
     "metadata": {
      "needs_background": "light"
     },
     "output_type": "display_data"
    }
   ],
   "source": [
    "plt.scatter(mdl.predict(x), y)"
   ]
  },
  {
   "cell_type": "code",
   "execution_count": 194,
   "id": "d10b5d01",
   "metadata": {},
   "outputs": [
    {
     "data": {
      "image/png": "[encoded data removed]",
      "text/plain": [
       "<Figure size 432x288 with 1 Axes>"
      ]
     },
     "metadata": {
      "needs_background": "light"
     },
     "output_type": "display_data"
    }
   ],
   "source": [
    "mdl.viz(skip_first = 20)"
   ]
  },
  {
   "cell_type": "code",
   "execution_count": null,
   "id": "db76a2a7",
   "metadata": {},
   "outputs": [],
   "source": [
    ".00001"
   ]
  },
  {
   "cell_type": "code",
   "execution_count": 201,
   "id": "40f56c5a",
   "metadata": {},
   "outputs": [
    {
     "data": {
      "text/plain": [
       "array([6.14419348e-06, 6.15034073e-06, 6.15649412e-06, ...,\n",
       "       1.19970062e+01, 1.19980062e+01, 1.19990062e+01])"
      ]
     },
     "execution_count": 201,
     "metadata": {},
     "output_type": "execute_result"
    }
   ],
   "source": [
    "x = np.arange(-12, 12, .001)\n",
    "np.log(1+np.exp(x))"
   ]
  },
  {
   "cell_type": "code",
   "execution_count": 195,
   "id": "d9d6a341",
   "metadata": {
    "scrolled": false
   },
   "outputs": [
    {
     "data": {
      "text/plain": [
       "1.183235400175535"
      ]
     },
     "execution_count": 195,
     "metadata": {},
     "output_type": "execute_result"
    }
   ],
   "source": [
    "mdl.losses[-1]"
   ]
  },
  {
   "cell_type": "code",
   "execution_count": 196,
   "id": "6301cb59",
   "metadata": {
    "scrolled": true
   },
   "outputs": [
    {
     "data": {
      "text/plain": [
       "0.5648808816196393"
      ]
     },
     "execution_count": 196,
     "metadata": {},
     "output_type": "execute_result"
    }
   ],
   "source": [
    "from sklearn.linear_model import Ridge\n",
    "baseline = Ridge().fit(x, y)\n",
    "yhat = baseline.predict(x)\n",
    "np.square(yhat - y).mean()"
   ]
  },
  {
   "cell_type": "code",
   "execution_count": 197,
   "id": "8397a259",
   "metadata": {
    "scrolled": false
   },
   "outputs": [
    {
     "data": {
      "text/plain": [
       "0.006451065488558024"
      ]
     },
     "execution_count": 197,
     "metadata": {},
     "output_type": "execute_result"
    }
   ],
   "source": [
    "mdl.loss(x, y[:,None])"
   ]
  },
  {
   "cell_type": "code",
   "execution_count": null,
   "id": "9d16423f",
   "metadata": {},
   "outputs": [],
   "source": []
  },
  {
   "cell_type": "code",
   "execution_count": null,
   "id": "67b4b1dd",
   "metadata": {},
   "outputs": [],
   "source": []
  },
  {
   "cell_type": "code",
   "execution_count": null,
   "id": "35f0f752",
   "metadata": {},
   "outputs": [],
   "source": []
  }
 ],
 "metadata": {
  "kernelspec": {
   "display_name": "Python 3 (ipykernel)",
   "language": "python",
   "name": "python3"
  },
  "language_info": {
   "codemirror_mode": {
    "name": "ipython",
    "version": 3
   },
   "file_extension": ".py",
   "mimetype": "text/x-python",
   "name": "python",
   "nbconvert_exporter": "python",
   "pygments_lexer": "ipython3",
   "version": "3.8.11"
  }
 },
 "nbformat": 4,
 "nbformat_minor": 5
}
