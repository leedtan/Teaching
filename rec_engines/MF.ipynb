{
 "cells": [
  {
   "cell_type": "code",
   "execution_count": 1,
   "id": "eeheeKKkdZyU",
   "metadata": {
    "id": "eeheeKKkdZyU"
   },
   "outputs": [],
   "source": [
    "import pandas as pd\n",
    "import numpy as np\n",
    "import os\n",
    "os.environ[\"CUDA_VISIBLE_DEVICES\"] = \"-1\"\n",
    "import tensorflow as tf"
   ]
  },
  {
   "cell_type": "code",
   "execution_count": 2,
   "id": "60ee0355",
   "metadata": {},
   "outputs": [],
   "source": [
    "rating_df = pd.read_csv('ratings.csv')\n",
    "tag_df = pd.read_csv('tags.csv')\n",
    "movie_df = pd.read_csv('movies.csv')\n",
    "rating_df['userId'] = rating_df['userId'] - 1\n",
    "rating_df['movieId'] = rating_df['movieId'] - 1\n",
    "tag_df['userId'] = tag_df['userId'] - 1\n",
    "tag_df['movieId'] = tag_df['movieId'] - 1\n",
    "movie_df['movieId'] = movie_df['movieId'] - 1\n",
    "num_users = rating_df['userId'].nunique()\n",
    "num_movies = rating_df['movieId'].nunique()"
   ]
  },
  {
   "cell_type": "code",
   "execution_count": 210,
   "id": "1e2b287f",
   "metadata": {},
   "outputs": [],
   "source": [
    "movie_df['year'] = pd.to_numeric(movie_df['title'].str.strip().str[-5:-1], errors='coerce')\n",
    "movie_df['year'] =( movie_df['year']-movie_df['year'].mean())/movie_df['year'].std()\n",
    "movie_df['year'] = movie_df['year'].fillna(0)"
   ]
  },
  {
   "cell_type": "code",
   "execution_count": 211,
   "id": "102b1fb2",
   "metadata": {},
   "outputs": [],
   "source": [
    "ser = movie_df['genres'].str.split('|')\n"
   ]
  },
  {
   "cell_type": "code",
   "execution_count": 212,
   "id": "904e0090",
   "metadata": {},
   "outputs": [],
   "source": [
    "genre_df = movie_df.set_index('movieId')['genres'].str.get_dummies()\n",
    "genre_df = pd.merge(rating_df[['movieId']], genre_df, on= 'movieId').drop('movieId', axis=1)"
   ]
  },
  {
   "cell_type": "code",
   "execution_count": 213,
   "id": "f186528d",
   "metadata": {},
   "outputs": [
    {
     "data": {
      "text/plain": [
       "(100836, 4)"
      ]
     },
     "execution_count": 213,
     "metadata": {},
     "output_type": "execute_result"
    }
   ],
   "source": [
    "rating_df.shape"
   ]
  },
  {
   "cell_type": "code",
   "execution_count": 216,
   "id": "b02ea8a2",
   "metadata": {},
   "outputs": [],
   "source": [
    "if 'year' not in rating_df.columns:\n",
    "    rating_df = pd.merge(rating_df, movie_df[['movieId', 'year']], on = 'movieId')"
   ]
  },
  {
   "cell_type": "code",
   "execution_count": 245,
   "id": "7e190871",
   "metadata": {},
   "outputs": [],
   "source": [
    "tfph = tf.compat.v1.placeholder\n",
    "tfvar = tf.compat.v1.get_variable"
   ]
  },
  {
   "cell_type": "code",
   "execution_count": 246,
   "id": "299e2a51",
   "metadata": {},
   "outputs": [],
   "source": [
    "tf.compat.v1.disable_eager_execution()\n",
    "tf.compat.v1.reset_default_graph()\n",
    "user_ph = tfph(shape = (None, ), dtype = tf.int32)\n",
    "movie_ph = tfph(shape = (None, ), dtype = tf.int32)\n",
    "emb_size = 32\n",
    "user_emb = tfvar('users', shape = (num_users,emb_size), dtype = tf.float32)\n",
    "movie_emb = tfvar('movies', shape = (num_movies,emb_size), dtype = tf.float32)\n",
    "\n",
    "users = tf.compat.v1.nn.embedding_lookup(user_emb, user_ph)\n",
    "movies_learned = tf.compat.v1.nn.embedding_lookup(movie_emb, movie_ph)\n",
    "movie_meta = tf.compat.v1.placeholder(shape = (None, 1 + genre_df.shape[1]), dtype = tf.float32)\n",
    "movies = tf.concat((movies_learned, movie_meta), axis=1)\n",
    "# relation_matrix = tf.compat.v1.get_variable('relations', shape = (users.shape[1],movies.shape[1]), dtype = tf.float32)\n",
    "\n",
    "# preference_alignment = users * movies\n",
    "# yhat_raw = tf.reduce_sum(preference_alignment, axis=1)\n",
    "# U * Sigma * Movie\n",
    "# yhat_raw = tf.reduce_sum(users @ relation_matrix @ movies, axis=1)\n",
    "# yhat_raw = tf.reduce_sum(tf.reduce_sum(users[:,:,None] * relation_matrix[None, :] * movies[:, None, :], axis=2), axis=1)\n",
    "features = tf.concat((users, movies), axis=1)\n",
    "for i in range(3):\n",
    "    features = tf.compat.v1.layers.Dense(64)(features)\n",
    "    features = tf.nn.leaky_relu(features)\n",
    "yhat_raw = tf.compat.v1.layers.Dense(1)(features)[:,0]\n",
    "yhat = tf.sigmoid(yhat_raw /4) * 4 + 1\n",
    "rating_ph = tf.compat.v1.placeholder(shape = (None, ), dtype = tf.float32)\n",
    "loss = tf.reduce_sum(tf.square(yhat - rating_ph))\n",
    "opt = tf.compat.v1.train.AdamOptimizer().minimize(loss)\n",
    "sess = tf.compat.v1.Session()\n",
    "sess.run(tf.compat.v1.global_variables_initializer())"
   ]
  },
  {
   "cell_type": "code",
   "execution_count": 247,
   "id": "b761b6f0",
   "metadata": {
    "scrolled": true
   },
   "outputs": [
    {
     "name": "stdout",
     "output_type": "stream",
     "text": [
      "133560.44\n",
      "119054.5\n",
      "106262.93\n",
      "98785.47\n",
      "88468.67\n",
      "79663.31\n",
      "74225.516\n",
      "71242.36\n",
      "69407.5\n",
      "68409.11\n",
      "67711.42\n",
      "67184.72\n",
      "66698.61\n",
      "66178.8\n",
      "65582.14\n",
      "64887.234\n",
      "64093.535\n",
      "63221.297\n",
      "62297.742\n",
      "61331.22\n",
      "60312.18\n",
      "59225.54\n",
      "58042.28\n",
      "56727.117\n",
      "55249.72\n",
      "53580.547\n",
      "51724.594\n",
      "49827.207\n",
      "47853.54\n",
      "45897.72\n",
      "44010.758\n",
      "42514.117\n",
      "40677.03\n",
      "39190.26\n",
      "37781.465\n",
      "36468.4\n",
      "35291.062\n",
      "34146.016\n",
      "33154.9\n",
      "32218.164\n",
      "31364.71\n",
      "30647.914\n",
      "29859.824\n",
      "29150.262\n",
      "28486.746\n",
      "27907.568\n",
      "27446.953\n",
      "27009.555\n",
      "26579.434\n",
      "26095.205\n",
      "25602.209\n",
      "25193.967\n",
      "24950.623\n",
      "24697.422\n",
      "24291.045\n",
      "23913.344\n",
      "23700.959\n",
      "23596.451\n",
      "23209.822\n",
      "22901.703\n",
      "22891.92\n",
      "22625.062\n",
      "22287.02\n",
      "22241.582\n",
      "22078.525\n",
      "21755.88\n",
      "21622.047\n",
      "21575.875\n",
      "21249.934\n",
      "21136.932\n",
      "21092.559\n",
      "20786.8\n",
      "20671.594\n",
      "20710.328\n",
      "20396.502\n",
      "20460.312\n",
      "20287.176\n",
      "20039.195\n",
      "20205.566\n",
      "19895.053\n",
      "19758.555\n",
      "19837.967\n",
      "19536.13\n",
      "19571.178\n",
      "19432.158\n",
      "19355.137\n",
      "19363.438\n",
      "19176.71\n",
      "19102.684\n",
      "19064.762\n",
      "18896.057\n",
      "18925.938\n",
      "18855.621\n",
      "18668.406\n",
      "18748.045\n",
      "18515.363\n",
      "18450.424\n",
      "18400.016\n",
      "18461.984\n",
      "18287.525\n"
     ]
    }
   ],
   "source": [
    "for i in range(1000):\n",
    "  _, cur_loss = sess.run(\n",
    "      [opt, loss], {\n",
    "          user_ph: rating_df['userId'], movie_ph: rating_df['movieId'], rating_ph: rating_df['rating'],\n",
    "      movie_meta: pd.concat((rating_df[['year']], genre_df), axis=1)})\n",
    "  if i % 10 == 0:\n",
    "    print(cur_loss)"
   ]
  },
  {
   "cell_type": "code",
   "execution_count": null,
   "id": "2055168d",
   "metadata": {},
   "outputs": [],
   "source": []
  },
  {
   "cell_type": "code",
   "execution_count": null,
   "id": "1575ca0f",
   "metadata": {},
   "outputs": [],
   "source": []
  }
 ],
 "metadata": {
  "colab": {
   "collapsed_sections": [],
   "name": "Recommendation_Systems_Case_Study_Notebook_Part2 (3).ipynb",
   "provenance": []
  },
  "kernelspec": {
   "display_name": "Python 3",
   "language": "python",
   "name": "python3"
  },
  "language_info": {
   "codemirror_mode": {
    "name": "ipython",
    "version": 3
   },
   "file_extension": ".py",
   "mimetype": "text/x-python",
   "name": "python",
   "nbconvert_exporter": "python",
   "pygments_lexer": "ipython3",
   "version": "3.7.6"
  }
 },
 "nbformat": 4,
 "nbformat_minor": 5
}
