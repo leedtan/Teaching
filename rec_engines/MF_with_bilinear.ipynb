{
 "cells": [
  {
   "cell_type": "code",
   "execution_count": 1,
   "metadata": {},
   "outputs": [],
   "source": [
    "# downloaded from https://grouplens.org/datasets/movielens/25m/"
   ]
  },
  {
   "cell_type": "code",
   "execution_count": 2,
   "metadata": {
    "colab": {
     "base_uri": "https://localhost:8080/"
    },
    "id": "LP8j_WzyfHD0",
    "outputId": "0164cd13-cdaa-4a05-99ff-ea2929ea6348"
   },
   "outputs": [],
   "source": [
    "import pandas as pd\n",
    "import numpy as np\n",
    "from matplotlib import pyplot as plt\n",
    "import os\n",
    "# os.environ[\"CUDA_VISIBLE_DEVICES\"] = \"-1\"\n",
    "import tensorflow as tf\n",
    "import time\n",
    "from tqdm.auto import tqdm\n",
    "\n",
    "dbg = True\n",
    "# from google.colab import drive\n",
    "# drive.mount('/content/gdrive')\n",
    "nrows = {True:100000, False:None}[dbg]\n",
    "rating_df = pd.read_csv('ml-25m/ratings.csv', nrows=nrows)\n",
    "tag_df = pd.read_csv('ml-25m/tags.csv', nrows=nrows)\n",
    "movie_df = pd.read_csv('ml-25m/movies.csv')\n",
    "rating_df['userId'] = rating_df['userId'] - 1\n",
    "rating_df['movieId'] = rating_df['movieId'] - 1\n",
    "tag_df['userId'] = tag_df['userId'] - 1\n",
    "tag_df['movieId'] = tag_df['movieId'] - 1\n",
    "movie_df['movieId'] = movie_df['movieId'] - 1\n",
    "\n",
    "rating_df['movieId'] = rating_df['movieId'].map({v: i for i, v in enumerate(rating_df['movieId'].unique())})\n",
    "mismatch = set(rating_df[\"movieId\"]).difference(movie_df[\"movieId\"])\n",
    "rating_df = rating_df.loc[~rating_df['movieId'].isin(mismatch)]\n",
    "\n",
    "movie_counts = rating_df['movieId'].value_counts()\n",
    "popular_movies = movie_counts[(movie_counts > 30)].index\n",
    "rating_df = rating_df.loc[rating_df['movieId'].isin(popular_movies)]\n",
    "user_counts = rating_df['userId'].value_counts()\n",
    "popular_users = user_counts[(user_counts > 30)].index\n",
    "rating_df = rating_df.loc[rating_df['userId'].isin(popular_users)]\n",
    "\n",
    "movie_df = movie_df.loc[movie_df['movieId'].isin(rating_df['movieId'].unique())]\n",
    "movie_id_map = {v:k for k, v in enumerate(rating_df['movieId'].unique())}\n",
    "movie_df['movieId'] = movie_df['movieId'].map(movie_id_map).astype(int)\n",
    "rating_df['movieId'] = rating_df['movieId'].map(movie_id_map).astype(int)\n",
    "user_id_map = {v:k for k, v in enumerate(rating_df['userId'].unique())}\n",
    "rating_df['userId'] = rating_df['userId'].map(user_id_map).astype(int)\n",
    "rating_df = rating_df.reset_index(drop=True)\n",
    "movie_df = movie_df.reset_index(drop=True)\n",
    "mismatch = set(movie_df[\"movieId\"]).difference(rating_df[\"movieId\"])\n",
    "movie_df = movie_df.drop(mismatch)\n",
    "num_users = rating_df['userId'].nunique()\n",
    "num_movies = rating_df['movieId'].nunique()"
   ]
  },
  {
   "cell_type": "code",
   "execution_count": 3,
   "metadata": {
    "scrolled": true
   },
   "outputs": [
    {
     "data": {
      "text/plain": [
       "(51357, 4)"
      ]
     },
     "execution_count": 3,
     "metadata": {},
     "output_type": "execute_result"
    }
   ],
   "source": [
    "rating_df.shape"
   ]
  },
  {
   "cell_type": "code",
   "execution_count": 4,
   "metadata": {},
   "outputs": [
    {
     "data": {
      "text/html": [
       "<div>\n",
       "<style scoped>\n",
       "    .dataframe tbody tr th:only-of-type {\n",
       "        vertical-align: middle;\n",
       "    }\n",
       "\n",
       "    .dataframe tbody tr th {\n",
       "        vertical-align: top;\n",
       "    }\n",
       "\n",
       "    .dataframe thead th {\n",
       "        text-align: right;\n",
       "    }\n",
       "</style>\n",
       "<table border=\"1\" class=\"dataframe\">\n",
       "  <thead>\n",
       "    <tr style=\"text-align: right;\">\n",
       "      <th></th>\n",
       "      <th>userId</th>\n",
       "      <th>movieId</th>\n",
       "      <th>rating</th>\n",
       "      <th>timestamp</th>\n",
       "    </tr>\n",
       "  </thead>\n",
       "  <tbody>\n",
       "    <tr>\n",
       "      <th>0</th>\n",
       "      <td>0</td>\n",
       "      <td>0</td>\n",
       "      <td>3.5</td>\n",
       "      <td>1141415820</td>\n",
       "    </tr>\n",
       "    <tr>\n",
       "      <th>1</th>\n",
       "      <td>0</td>\n",
       "      <td>1</td>\n",
       "      <td>0.5</td>\n",
       "      <td>1141417130</td>\n",
       "    </tr>\n",
       "    <tr>\n",
       "      <th>2</th>\n",
       "      <td>0</td>\n",
       "      <td>2</td>\n",
       "      <td>5.0</td>\n",
       "      <td>1141416589</td>\n",
       "    </tr>\n",
       "    <tr>\n",
       "      <th>3</th>\n",
       "      <td>0</td>\n",
       "      <td>3</td>\n",
       "      <td>4.0</td>\n",
       "      <td>1141415790</td>\n",
       "    </tr>\n",
       "    <tr>\n",
       "      <th>4</th>\n",
       "      <td>0</td>\n",
       "      <td>4</td>\n",
       "      <td>4.5</td>\n",
       "      <td>1141415643</td>\n",
       "    </tr>\n",
       "    <tr>\n",
       "      <th>...</th>\n",
       "      <td>...</td>\n",
       "      <td>...</td>\n",
       "      <td>...</td>\n",
       "      <td>...</td>\n",
       "    </tr>\n",
       "    <tr>\n",
       "      <th>51352</th>\n",
       "      <td>511</td>\n",
       "      <td>166</td>\n",
       "      <td>3.5</td>\n",
       "      <td>1184073818</td>\n",
       "    </tr>\n",
       "    <tr>\n",
       "      <th>51353</th>\n",
       "      <td>511</td>\n",
       "      <td>62</td>\n",
       "      <td>3.5</td>\n",
       "      <td>1184013545</td>\n",
       "    </tr>\n",
       "    <tr>\n",
       "      <th>51354</th>\n",
       "      <td>511</td>\n",
       "      <td>758</td>\n",
       "      <td>3.5</td>\n",
       "      <td>1184017555</td>\n",
       "    </tr>\n",
       "    <tr>\n",
       "      <th>51355</th>\n",
       "      <td>511</td>\n",
       "      <td>589</td>\n",
       "      <td>3.0</td>\n",
       "      <td>1184073493</td>\n",
       "    </tr>\n",
       "    <tr>\n",
       "      <th>51356</th>\n",
       "      <td>511</td>\n",
       "      <td>64</td>\n",
       "      <td>3.0</td>\n",
       "      <td>1184014093</td>\n",
       "    </tr>\n",
       "  </tbody>\n",
       "</table>\n",
       "<p>51357 rows × 4 columns</p>\n",
       "</div>"
      ],
      "text/plain": [
       "       userId  movieId  rating   timestamp\n",
       "0           0        0     3.5  1141415820\n",
       "1           0        1     0.5  1141417130\n",
       "2           0        2     5.0  1141416589\n",
       "3           0        3     4.0  1141415790\n",
       "4           0        4     4.5  1141415643\n",
       "...       ...      ...     ...         ...\n",
       "51352     511      166     3.5  1184073818\n",
       "51353     511       62     3.5  1184013545\n",
       "51354     511      758     3.5  1184017555\n",
       "51355     511      589     3.0  1184073493\n",
       "51356     511       64     3.0  1184014093\n",
       "\n",
       "[51357 rows x 4 columns]"
      ]
     },
     "execution_count": 4,
     "metadata": {},
     "output_type": "execute_result"
    }
   ],
   "source": [
    "rating_df"
   ]
  },
  {
   "cell_type": "code",
   "execution_count": 5,
   "metadata": {},
   "outputs": [],
   "source": [
    "year = movie_df['title'].str[-5:-1].astype(float)\n",
    "# movie_features = movie_df[['title']].apply(lambda x : x.str[-5:-1].astype(float))\n",
    "year.name = 'year'"
   ]
  },
  {
   "cell_type": "code",
   "execution_count": 6,
   "metadata": {},
   "outputs": [],
   "source": [
    "train_rows=np.random.choice(rating_df.shape[0], int(0.8*rating_df.shape[0]), replace=False)\n",
    "ratings_train = rating_df.loc[train_rows]\n",
    "test_rows = set(range(rating_df.shape[0])).difference(set(train_rows))\n",
    "ratings_test = rating_df.loc[test_rows]"
   ]
  },
  {
   "cell_type": "code",
   "execution_count": 7,
   "metadata": {},
   "outputs": [
    {
     "data": {
      "text/plain": [
       "(41085, 4)"
      ]
     },
     "execution_count": 7,
     "metadata": {},
     "output_type": "execute_result"
    }
   ],
   "source": [
    "ratings_train.shape"
   ]
  },
  {
   "cell_type": "code",
   "execution_count": 8,
   "metadata": {},
   "outputs": [],
   "source": [
    "user_average_ratings = ratings_train.groupby('userId')['rating'].mean()"
   ]
  },
  {
   "cell_type": "code",
   "execution_count": 9,
   "metadata": {},
   "outputs": [],
   "source": [
    "movie_features = pd.concat([year], axis=1)\n",
    "movie_features = (movie_features - movie_features.mean(0))/movie_features.std(0)\n",
    "# movie_features"
   ]
  },
  {
   "cell_type": "code",
   "execution_count": 10,
   "metadata": {},
   "outputs": [],
   "source": [
    "# a = tf.constant(np.random.rand(5, 3))\n",
    "# b = tf.constant(np.random.rand(5, 4))\n",
    "# c = tf.constant(np.random.rand(3, 4))\n",
    "# def bilinear(a, b, relationship_map):\n",
    "#     c = relationship_map\n",
    "#     ac = tf.tensordot(a, c, 1)\n",
    "#     acb = tf.reduce_sum(ac * b, 1)\n",
    "#     return acb\n",
    "# bilinear(a, b, c)"
   ]
  },
  {
   "cell_type": "code",
   "execution_count": 11,
   "metadata": {},
   "outputs": [],
   "source": [
    "user_features = user_average_ratings.to_frame()\n",
    "user_features = (user_features - user_features.mean(0))/user_features.std(0)\n",
    "# user_features"
   ]
  },
  {
   "cell_type": "code",
   "execution_count": 12,
   "metadata": {},
   "outputs": [],
   "source": [
    "minrating, maxrating = rating_df['rating'].describe().loc[['min', 'max']]"
   ]
  },
  {
   "cell_type": "code",
   "execution_count": 13,
   "metadata": {},
   "outputs": [
    {
     "data": {
      "text/plain": [
       "366    419\n",
       "422    375\n",
       "288    348\n",
       "293    325\n",
       "221    316\n",
       "      ... \n",
       "194     23\n",
       "303     22\n",
       "19      22\n",
       "100     21\n",
       "359     20\n",
       "Name: userId, Length: 512, dtype: int64"
      ]
     },
     "execution_count": 13,
     "metadata": {},
     "output_type": "execute_result"
    }
   ],
   "source": [
    "ratings_train['userId'].value_counts()"
   ]
  },
  {
   "cell_type": "code",
   "execution_count": 14,
   "metadata": {},
   "outputs": [
    {
     "data": {
      "text/plain": [
       "136    244\n",
       "12     240\n",
       "9      228\n",
       "139    227\n",
       "16     214\n",
       "      ... \n",
       "490     19\n",
       "299     19\n",
       "84      19\n",
       "386     19\n",
       "645     17\n",
       "Name: movieId, Length: 773, dtype: int64"
      ]
     },
     "execution_count": 14,
     "metadata": {},
     "output_type": "execute_result"
    }
   ],
   "source": [
    "ratings_train['movieId'].value_counts()"
   ]
  },
  {
   "cell_type": "code",
   "execution_count": 15,
   "metadata": {},
   "outputs": [],
   "source": [
    "class RecEngine:\n",
    "    def __init__(self, ratings_train, ratings_test, num_users, num_movies, minrating, maxrating, emb_size=8,\n",
    "                 early_stopping = False, chk_freq = 10, movie_features = None, user_features = None, match_shapes = True,\n",
    "                 *args, **kwargs):\n",
    "        self.emb_size = emb_size\n",
    "        if movie_features is not None:\n",
    "            num_movie_features = movie_features.shape[1]\n",
    "        else:\n",
    "            num_movie_features = 0\n",
    "        if user_features is not None:\n",
    "            num_user_features = user_features.shape[1]\n",
    "        else:\n",
    "            num_user_features = 0\n",
    "        self.num_movie_features = num_movie_features\n",
    "        self.num_user_features = num_user_features\n",
    "        tf.compat.v1.reset_default_graph()\n",
    "        if match_shapes:\n",
    "            self.user_vec = tfvar(\"uservec\", shape=(num_users, emb_size + num_movie_features), dtype=tf.float32)\n",
    "            self.movie_vec = tfvar(\"movievec\", shape=(num_movies, emb_size + num_user_features), dtype=tf.float32)\n",
    "        else:\n",
    "            self.user_vec = tfvar(\"uservec\", shape=(num_users, emb_size), dtype=tf.float32)\n",
    "            self.movie_vec = tfvar(\"movievec\", shape=(num_movies, emb_size), dtype=tf.float32)\n",
    "        \n",
    "        if num_user_features > 0:\n",
    "            self.user_data_features = tf.constant(user_features, dtype = tf.float32)\n",
    "            self.user_vec = tf.concat((self.user_vec, self.user_data_features), axis=1)\n",
    "        \n",
    "        if num_movie_features > 0:\n",
    "            self.movie_data_features = tf.constant(movie_features, dtype = tf.float32)\n",
    "            self.movie_vec = tf.concat((self.movie_data_features, self.movie_vec), axis=1)\n",
    "            \n",
    "        \n",
    "        self.user_bias_vec = tfvar(\"userbiasvec\", shape=(num_users), dtype=tf.float32)\n",
    "        self.movie_bias_vec = tfvar(\"moviebiasvec\", shape=(num_movies), dtype=tf.float32)\n",
    "        self.ratings_train = ratings_train\n",
    "        self.ratings_test = ratings_test\n",
    "\n",
    "        self.user_ph = tfph(tf.int32, shape=(None,))\n",
    "        self.movie_ph = tfph(tf.int32, shape=(None,))\n",
    "        self.rating_ph = tfph(tf.float32, shape=(None,))\n",
    "        \n",
    "        # batch size, emb_size\n",
    "        self.user_emb = tf.gather(self.user_vec, self.user_ph)\n",
    "        self.movie_emb = tf.gather(self.movie_vec, self.movie_ph)\n",
    "\n",
    "        # batch size\n",
    "        self.user_bias_emb = tf.gather(self.user_bias_vec, self.user_ph)\n",
    "        self.movie_bias_emb = tf.gather(self.movie_bias_vec, self.movie_ph)\n",
    "        \n",
    "        self.losses = []\n",
    "        self.chk_freq = chk_freq\n",
    "        self.val_losses = []\n",
    "        self.early_stopping = early_stopping\n",
    "        if self.early_stopping and chk_frq == 0:\n",
    "            raise ValueError('need a check freq if using early stopping')\n",
    "        self.n_trn = ratings_train.shape[0]\n",
    "    \n",
    "    def sample_at(self, rows):\n",
    "\n",
    "        samples = self.ratings_train.iloc[rows]\n",
    "        fd = {self.movie_ph: samples['movieId'], self.user_ph: samples['userId'], self.rating_ph: samples['rating']}\n",
    "        return fd\n",
    "    def get_fd_train(self):\n",
    "        fd = {self.movie_ph: self.ratings_train['movieId'], \n",
    "             self.user_ph: self.ratings_train['userId'], \n",
    "             self.rating_ph: self.ratings_train['rating']}\n",
    "        return fd\n",
    "    def get_fd_test(self):\n",
    "        fd =  {self.movie_ph: self.ratings_test['movieId'], \n",
    "                self.user_ph: self.ratings_test['userId'], \n",
    "                self.rating_ph: self.ratings_test['rating']}\n",
    "        return fd\n",
    "    def train(self, epochs = 100, minibatch = True, batch_size = 64):\n",
    "        for ep in tqdm(range(epochs)):\n",
    "            if minibatch:\n",
    "                data_order = np.arange(self.n_trn)\n",
    "                np.random.shuffle(data_order)\n",
    "                num_batches = self.n_trn // batch_size\n",
    "                loss_avg = 0\n",
    "                for batch_idx in range(num_batches):\n",
    "                    if batch_idx != num_batches - 1:\n",
    "                        rows = data_order[batch_idx*batch_size: (batch_idx+1) * batch_size]\n",
    "                    else:\n",
    "                        rows = data_order[batch_idx*batch_size:]\n",
    "                    fd = self.sample_at(rows)\n",
    "                    current_loss, _ = self.sess.run([self.loss, self.opt], fd)\n",
    "                    loss_avg += current_loss * len(rows) / self.n_trn\n",
    "                self.losses.append(loss_avg)\n",
    "\n",
    "            else:\n",
    "                fd = self.get_fd_train()\n",
    "                current_loss, _ = self.sess.run([self.loss, self.opt], fd)\n",
    "                self.losses.append(current_loss)\n",
    "\n",
    "            if self.early_stopping:\n",
    "                if ep % self.chk_freq == 0:\n",
    "                    last_chkpnt = f'rec_tst_{ep}'\n",
    "                    self.saver.save(self.sess, last_chkpnt)\n",
    "            fd_test = self.get_fd_test()\n",
    "            val_loss = self.sess.run(self.loss,fd_test)\n",
    "\n",
    "            self.val_losses.append(val_loss)\n",
    "            if self.early_stopping:\n",
    "                if all([los > val_losses[ep - (ep % 10)] for los in self.val_losses[-3:]]):\n",
    "                    self.saver.restore(self.sess, last_chkpnt)\n",
    "                    fd = self.get_fd_test()\n",
    "                    restored_loss = self.sess.run(self.loss, fd)\n",
    "                    self.val_losses.append(restored_loss)\n",
    "                    break\n",
    "\n",
    "    def post_setup(self):\n",
    "        self.opt_fcn = tf.compat.v1.train.AdamOptimizer()\n",
    "        self.opt = self.opt_fcn.minimize(self.loss)\n",
    "        self.sess = tf.compat.v1.Session()\n",
    "        self.sess.run(tf.compat.v1.global_variables_initializer())\n",
    "        self.saver = tf.compat.v1.train.Saver()"
   ]
  },
  {
   "cell_type": "code",
   "execution_count": 16,
   "metadata": {},
   "outputs": [],
   "source": [
    "class MF(RecEngine):\n",
    "    def __init__(self, minrating, maxrating, *args, **kwargs):\n",
    "        super().__init__(minrating=minrating, maxrating=maxrating, *args, **kwargs)\n",
    "\n",
    "\n",
    "        self.score_raw = (\n",
    "            tf.reduce_sum(self.user_emb * self.movie_emb, axis=1) + self.user_bias_emb + self.movie_bias_emb\n",
    "        )\n",
    "        self.score = tf.sigmoid(self.score_raw) * (maxrating - minrating) + minrating\n",
    "\n",
    "        self.reg = tf.reduce_mean(tf.square(self.user_emb)) + tf.reduce_mean(tf.square(self.movie_emb))\n",
    "\n",
    "        self.mse = tf.reduce_mean(tf.square(self.score - self.rating_ph))\n",
    "        self.loss = self.mse + self.reg\n",
    "        self.post_setup()"
   ]
  },
  {
   "cell_type": "code",
   "execution_count": 17,
   "metadata": {},
   "outputs": [],
   "source": [
    "class Bilinear(RecEngine):\n",
    "    def __init__(self, minrating, maxrating, *args, **kwargs):\n",
    "        super().__init__(minrating=minrating, maxrating=maxrating, match_shapes = False, *args, **kwargs)\n",
    "        self.relationship_map = tfvar(\n",
    "            'rel', (self.user_emb.shape[1], self.movie_emb.shape[1]),\n",
    "            dtype = tf.float32)\n",
    "        self.score_raw = self.bilinear(self.user_emb, self.movie_emb, self.relationship_map)\n",
    "        self.score = tf.sigmoid(self.score_raw) * (maxrating - minrating) + minrating\n",
    "\n",
    "        self.reg = (\n",
    "            tf.reduce_mean(tf.square(self.user_emb)) * 1. + \n",
    "            tf.reduce_mean(tf.square(self.movie_emb)) * 1. + \n",
    "            tf.reduce_mean(tf.square(self.relationship_map)) * 1e-8)\n",
    "\n",
    "        self.mse = tf.reduce_mean(tf.square(self.score - self.rating_ph))\n",
    "        self.loss = self.mse + self.reg\n",
    "        self.post_setup()\n",
    "     \n",
    "    def bilinear(self, a, b, relationship_map, use_einsum = True):\n",
    "        c = relationship_map\n",
    "        if use_einsum:\n",
    "            self.ac = None\n",
    "            self.acb = tf.einsum(\"ij, jk, ik -> i\", a, c, b)\n",
    "        else:\n",
    "            self.ac = tf.tensordot(a, c, 1)\n",
    "            self.acb = tf.reduce_sum(self.ac * b, 1)\n",
    "        return self.acb"
   ]
  },
  {
   "cell_type": "code",
   "execution_count": 18,
   "metadata": {},
   "outputs": [],
   "source": [
    "class NN(RecEngine):\n",
    "    def __init__(self, minrating, maxrating, *args, **kwargs):\n",
    "        pass"
   ]
  },
  {
   "cell_type": "code",
   "execution_count": 19,
   "metadata": {},
   "outputs": [
    {
     "name": "stdout",
     "output_type": "stream",
     "text": [
      "Automatic pdb calling has been turned ON\n"
     ]
    }
   ],
   "source": [
    "pdb"
   ]
  },
  {
   "cell_type": "code",
   "execution_count": 20,
   "metadata": {},
   "outputs": [],
   "source": [
    "tfph = tf.compat.v1.placeholder\n",
    "tfvar = tf.compat.v1.get_variable\n",
    "tf.compat.v1.disable_eager_execution()\n",
    "bilinear_mdl = Bilinear(ratings_train=ratings_train, ratings_test=ratings_test, num_users=num_users, num_movies=num_movies,\n",
    "            minrating=minrating, maxrating=maxrating, emb_size=64, \n",
    "            movie_features = movie_features, user_features = user_features)"
   ]
  },
  {
   "cell_type": "code",
   "execution_count": 21,
   "metadata": {
    "scrolled": false
   },
   "outputs": [
    {
     "data": {
      "application/vnd.jupyter.widget-view+json": {
       "model_id": "8c09e8d440434459b7c7a211b005cbd2",
       "version_major": 2,
       "version_minor": 0
      },
      "text/plain": [
       "  0%|          | 0/30 [00:00<?, ?it/s]"
      ]
     },
     "metadata": {},
     "output_type": "display_data"
    }
   ],
   "source": [
    "bilinear_mdl.train(epochs = 30, batch_size = {False:2**21, True:64}[dbg])"
   ]
  },
  {
   "cell_type": "code",
   "execution_count": 22,
   "metadata": {
    "scrolled": true
   },
   "outputs": [
    {
     "data": {
      "text/plain": [
       "[<matplotlib.lines.Line2D at 0x21483d8acc8>]"
      ]
     },
     "execution_count": 22,
     "metadata": {},
     "output_type": "execute_result"
    },
    {
     "data": {
      "image/png": "[encoded data removed]",
      "text/plain": [
       "<Figure size 432x288 with 1 Axes>"
      ]
     },
     "metadata": {
      "needs_background": "light"
     },
     "output_type": "display_data"
    }
   ],
   "source": [
    "plt.plot(bilinear_mdl.val_losses[2:])"
   ]
  },
  {
   "cell_type": "code",
   "execution_count": 23,
   "metadata": {},
   "outputs": [],
   "source": [
    "tfph = tf.compat.v1.placeholder\n",
    "tfvar = tf.compat.v1.get_variable\n",
    "tf.compat.v1.disable_eager_execution()\n",
    "mf_mdl = MF(ratings_train=ratings_train, ratings_test=ratings_test, num_users=num_users, num_movies=num_movies,\n",
    "            minrating=minrating, maxrating=maxrating, emb_size=64, \n",
    "            movie_features = movie_features, user_features = user_features)"
   ]
  },
  {
   "cell_type": "code",
   "execution_count": 24,
   "metadata": {},
   "outputs": [],
   "source": [
    "# dataset: 22M"
   ]
  },
  {
   "cell_type": "code",
   "execution_count": 25,
   "metadata": {
    "scrolled": false
   },
   "outputs": [
    {
     "data": {
      "application/vnd.jupyter.widget-view+json": {
       "model_id": "d6d4f28478b44da290d164f2e567ab52",
       "version_major": 2,
       "version_minor": 0
      },
      "text/plain": [
       "  0%|          | 0/30 [00:00<?, ?it/s]"
      ]
     },
     "metadata": {},
     "output_type": "display_data"
    }
   ],
   "source": [
    "mf_mdl.train(epochs = 30, batch_size = {False:2**21, True:64}[dbg])"
   ]
  },
  {
   "cell_type": "code",
   "execution_count": 26,
   "metadata": {
    "scrolled": false
   },
   "outputs": [
    {
     "data": {
      "text/plain": [
       "[<matplotlib.lines.Line2D at 0x214843d0bc8>]"
      ]
     },
     "execution_count": 26,
     "metadata": {},
     "output_type": "execute_result"
    },
    {
     "data": {
      "image/png": "[encoded data removed]",
      "text/plain": [
       "<Figure size 432x288 with 1 Axes>"
      ]
     },
     "metadata": {
      "needs_background": "light"
     },
     "output_type": "display_data"
    }
   ],
   "source": [
    "plt.plot(mf_mdl.val_losses[2:])"
   ]
  },
  {
   "cell_type": "code",
   "execution_count": 27,
   "metadata": {},
   "outputs": [
    {
     "data": {
      "application/vnd.jupyter.widget-view+json": {
       "model_id": "28475a4191e446fa91bfa80a198b27d7",
       "version_major": 2,
       "version_minor": 0
      },
      "text/plain": [
       "  0%|          | 0/30 [00:00<?, ?it/s]"
      ]
     },
     "metadata": {},
     "output_type": "display_data"
    },
    {
     "data": {
      "text/plain": [
       "[<matplotlib.lines.Line2D at 0x214885b5a88>]"
      ]
     },
     "execution_count": 27,
     "metadata": {},
     "output_type": "execute_result"
    },
    {
     "data": {
      "image/png": "[encoded data removed]",
      "text/plain": [
       "<Figure size 432x288 with 1 Axes>"
      ]
     },
     "metadata": {
      "needs_background": "light"
     },
     "output_type": "display_data"
    }
   ],
   "source": [
    "\n",
    "mf_mdl = MF(ratings_train=ratings_train, ratings_test=ratings_test, num_users=num_users, num_movies=num_movies,\n",
    "            minrating=minrating, maxrating=maxrating, emb_size=64, movie_features = movie_features, user_features = None)\n",
    "mf_mdl.train(epochs = 30, batch_size = {False:2**21, True:64}[dbg])\n",
    "plt.plot(mf_mdl.val_losses[2:])"
   ]
  },
  {
   "cell_type": "code",
   "execution_count": 28,
   "metadata": {},
   "outputs": [
    {
     "data": {
      "application/vnd.jupyter.widget-view+json": {
       "model_id": "02fe442933a44fb3bed8f1fe1e968da3",
       "version_major": 2,
       "version_minor": 0
      },
      "text/plain": [
       "  0%|          | 0/30 [00:00<?, ?it/s]"
      ]
     },
     "metadata": {},
     "output_type": "display_data"
    },
    {
     "data": {
      "text/plain": [
       "[<matplotlib.lines.Line2D at 0x214896f93c8>]"
      ]
     },
     "execution_count": 28,
     "metadata": {},
     "output_type": "execute_result"
    },
    {
     "data": {
      "image/png": "[encoded data removed]",
      "text/plain": [
       "<Figure size 432x288 with 1 Axes>"
      ]
     },
     "metadata": {
      "needs_background": "light"
     },
     "output_type": "display_data"
    }
   ],
   "source": [
    "\n",
    "mf_mdl = MF(ratings_train=ratings_train, ratings_test=ratings_test, num_users=num_users, num_movies=num_movies,\n",
    "            minrating=minrating, maxrating=maxrating, emb_size=64, movie_features = movie_features, user_features = None)\n",
    "mf_mdl.train(epochs = 30, batch_size = {False:2**21, True:64}[dbg])\n",
    "plt.plot(mf_mdl.val_losses[2:])"
   ]
  },
  {
   "cell_type": "code",
   "execution_count": 29,
   "metadata": {},
   "outputs": [
    {
     "data": {
      "application/vnd.jupyter.widget-view+json": {
       "model_id": "fc8854069094421ca5fb67143b94508c",
       "version_major": 2,
       "version_minor": 0
      },
      "text/plain": [
       "  0%|          | 0/30 [00:00<?, ?it/s]"
      ]
     },
     "metadata": {},
     "output_type": "display_data"
    },
    {
     "data": {
      "text/plain": [
       "[<matplotlib.lines.Line2D at 0x21489883688>]"
      ]
     },
     "execution_count": 29,
     "metadata": {},
     "output_type": "execute_result"
    },
    {
     "data": {
      "image/png": "[encoded data removed]",
      "text/plain": [
       "<Figure size 432x288 with 1 Axes>"
      ]
     },
     "metadata": {
      "needs_background": "light"
     },
     "output_type": "display_data"
    }
   ],
   "source": [
    "\n",
    "mf_mdl = MF(ratings_train=ratings_train, ratings_test=ratings_test, num_users=num_users, num_movies=num_movies,\n",
    "            minrating=minrating, maxrating=maxrating, emb_size=64, movie_features = None, user_features = None)\n",
    "mf_mdl.train(epochs = 30, batch_size = {False:2**21, True:64}[dbg])\n",
    "plt.plot(mf_mdl.val_losses[2:])"
   ]
  },
  {
   "cell_type": "code",
   "execution_count": 30,
   "metadata": {},
   "outputs": [
    {
     "data": {
      "application/vnd.jupyter.widget-view+json": {
       "model_id": "1961b01cc5c74f92b1eed603b1cdafd8",
       "version_major": 2,
       "version_minor": 0
      },
      "text/plain": [
       "  0%|          | 0/30 [00:00<?, ?it/s]"
      ]
     },
     "metadata": {},
     "output_type": "display_data"
    },
    {
     "data": {
      "text/plain": [
       "[<matplotlib.lines.Line2D at 0x21489a0a048>]"
      ]
     },
     "execution_count": 30,
     "metadata": {},
     "output_type": "execute_result"
    },
    {
     "data": {
      "image/png": "[encoded data removed]",
      "text/plain": [
       "<Figure size 432x288 with 1 Axes>"
      ]
     },
     "metadata": {
      "needs_background": "light"
     },
     "output_type": "display_data"
    }
   ],
   "source": [
    "\n",
    "mf_mdl = MF(ratings_train=ratings_train, ratings_test=ratings_test, num_users=num_users, num_movies=num_movies,\n",
    "            minrating=minrating, maxrating=maxrating, emb_size=64, movie_features = None, user_features = None)\n",
    "mf_mdl.train(epochs = 30, batch_size = {False:2**21, True:64}[dbg])\n",
    "plt.plot(mf_mdl.val_losses[2:])"
   ]
  },
  {
   "cell_type": "code",
   "execution_count": null,
   "metadata": {},
   "outputs": [],
   "source": []
  }
 ],
 "metadata": {
  "colab": {
   "collapsed_sections": [],
   "name": "Joel_2022_7_7.ipynb",
   "provenance": []
  },
  "kernelspec": {
   "display_name": "Python 3",
   "language": "python",
   "name": "python3"
  },
  "language_info": {
   "codemirror_mode": {
    "name": "ipython",
    "version": 3
   },
   "file_extension": ".py",
   "mimetype": "text/x-python",
   "name": "python",
   "nbconvert_exporter": "python",
   "pygments_lexer": "ipython3",
   "version": "3.7.9"
  }
 },
 "nbformat": 4,
 "nbformat_minor": 1
}
