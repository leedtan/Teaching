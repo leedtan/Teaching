{
 "cells": [
  {
   "cell_type": "code",
   "execution_count": null,
   "metadata": {},
   "outputs": [],
   "source": [
    "# downloaded from https://grouplens.org/datasets/movielens/25m/"
   ]
  },
  {
   "cell_type": "code",
   "execution_count": 138,
   "metadata": {
    "colab": {
     "base_uri": "https://localhost:8080/"
    },
    "id": "LP8j_WzyfHD0",
    "outputId": "0164cd13-cdaa-4a05-99ff-ea2929ea6348"
   },
   "outputs": [],
   "source": [
    "import pandas as pd\n",
    "import numpy as np\n",
    "from matplotlib import pyplot as plt\n",
    "import os\n",
    "os.environ[\"CUDA_VISIBLE_DEVICES\"] = \"-1\"\n",
    "import tensorflow as tf\n",
    "import time\n",
    "from tqdm import tqdm\n",
    "dbg = True\n",
    "# from google.colab import drive\n",
    "# drive.mount('/content/gdrive')\n",
    "nrows = {True:100000, False:None}[dbg]\n",
    "rating_df = pd.read_csv('ml-25m/ratings.csv', nrows=nrows)\n",
    "tag_df = pd.read_csv('ml-25m/tags.csv', nrows=nrows)\n",
    "movie_df = pd.read_csv('ml-25m/movies.csv')\n",
    "rating_df['userId'] = rating_df['userId'] - 1\n",
    "rating_df['movieId'] = rating_df['movieId'] - 1\n",
    "tag_df['userId'] = tag_df['userId'] - 1\n",
    "tag_df['movieId'] = tag_df['movieId'] - 1\n",
    "movie_df['movieId'] = movie_df['movieId'] - 1\n",
    "rating_df['movieId'] = rating_df['movieId'].map({v: i for i, v in enumerate(rating_df['movieId'].unique())})\n",
    "mismatch = set(rating_df[\"movieId\"]).difference(movie_df[\"movieId\"])\n",
    "rating_df = rating_df.loc[~rating_df['movieId'].isin(mismatch)]\n",
    "\n",
    "movie_counts = rating_df['movieId'].value_counts()\n",
    "popular_movies = movie_counts[(movie_counts > 30)].index\n",
    "rating_df = rating_df.loc[rating_df['movieId'].isin(popular_movies)]\n",
    "user_counts = rating_df['userId'].value_counts()\n",
    "popular_users = user_counts[(user_counts > 30)].index\n",
    "rating_df = rating_df.loc[rating_df['userId'].isin(popular_users)]\n",
    "\n",
    "movie_df = movie_df.loc[movie_df['movieId'].isin(rating_df['movieId'].unique())]\n",
    "movie_id_map = {v:k for k, v in enumerate(rating_df['movieId'].unique())}\n",
    "movie_df['movieId'] = movie_df['movieId'].map(movie_id_map).astype(int)\n",
    "rating_df['movieId'] = rating_df['movieId'].map(movie_id_map).astype(int)\n",
    "user_id_map = {v:k for k, v in enumerate(rating_df['userId'].unique())}\n",
    "rating_df['userId'] = rating_df['userId'].map(user_id_map).astype(int)\n",
    "rating_df = rating_df.reset_index(drop=True)\n",
    "movie_df = movie_df.reset_index(drop=True)\n",
    "mismatch = set(movie_df[\"movieId\"]).difference(rating_df[\"movieId\"])\n",
    "movie_df = movie_df.drop(mismatch)\n",
    "num_users = rating_df['userId'].nunique()\n",
    "num_movies = rating_df['movieId'].nunique()"
   ]
  },
  {
   "cell_type": "code",
   "execution_count": null,
   "metadata": {},
   "outputs": [],
   "source": []
  }
 ],
 "metadata": {
  "colab": {
   "collapsed_sections": [],
   "name": "Joel_2022_7_7.ipynb",
   "provenance": []
  },
  "kernelspec": {
   "display_name": "Python 3",
   "language": "python",
   "name": "python3"
  },
  "language_info": {
   "codemirror_mode": {
    "name": "ipython",
    "version": 3
   },
   "file_extension": ".py",
   "mimetype": "text/x-python",
   "name": "python",
   "nbconvert_exporter": "python",
   "pygments_lexer": "ipython3",
   "version": "3.7.6"
  }
 },
 "nbformat": 4,
 "nbformat_minor": 1
}
