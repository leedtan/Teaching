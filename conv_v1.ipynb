{
 "cells": [
  {
   "cell_type": "code",
   "execution_count": null,
   "metadata": {},
   "outputs": [],
   "source": [
    "# This lecture is meant to show how great convolutions are and shows some examples of how they are derived from\n",
    "# Applying some logic to linear regression.\n",
    "# It will be followed up with a numpy session actually implementing these tools."
   ]
  },
  {
   "cell_type": "code",
   "execution_count": null,
   "metadata": {
    "scrolled": true
   },
   "outputs": [],
   "source": [
    "import numpy as np\n",
    "import pandas as pd\n",
    "import matplotlib.pyplot as plt\n",
    "import random\n",
    "import tensorflow as tf"
   ]
  },
  {
   "cell_type": "code",
   "execution_count": null,
   "metadata": {},
   "outputs": [],
   "source": [
    "from tensorflow.keras.datasets import cifar10\n",
    "\n",
    "(trainX, trainy), (testX, testy) = cifar10.load_data()\n",
    "print('Train: X=%s, y=%s' % (trainX.shape, trainy.shape))\n",
    "print('Test: X=%s, y=%s' % (testX.shape, testy.shape))\n",
    "for i in range(9):\n",
    "    plt.subplot(330 + 1 + i)\n",
    "    plt.imshow(trainX[i])\n",
    "\n",
    "plt.show()"
   ]
  },
  {
   "cell_type": "code",
   "execution_count": null,
   "metadata": {},
   "outputs": [],
   "source": [
    "n_data = 100\n",
    "train_images = trainX[:n_data]\n",
    "train_labels = pd.get_dummies(trainy[:n_data,0]).values\n",
    "test_images = testX[:n_data]\n",
    "test_labels = pd.get_dummies(testy[:n_data,0]).values\n",
    "n_cls = train_labels.shape[1]"
   ]
  },
  {
   "cell_type": "code",
   "execution_count": null,
   "metadata": {
    "scrolled": true
   },
   "outputs": [],
   "source": [
    "tf.compat.v1.disable_eager_execution()\n",
    "\n",
    "tfph = tf.compat.v1.placeholder\n",
    "tfvar = tf.compat.v1.get_variable"
   ]
  },
  {
   "cell_type": "code",
   "execution_count": null,
   "metadata": {},
   "outputs": [],
   "source": [
    "style = 'conv'"
   ]
  },
  {
   "cell_type": "code",
   "execution_count": null,
   "metadata": {
    "scrolled": true
   },
   "outputs": [],
   "source": [
    "tf.compat.v1.reset_default_graph()\n",
    "if style == 'fc':\n",
    "    img_ph = tfph(shape = (None, 32*32*3), dtype = tf.float32)\n",
    "else:\n",
    "    img_ph = tfph(shape = (None, 32, 32, 3), dtype = tf.float32)\n",
    "features = img_ph\n",
    "for i in range(3):\n",
    "    if style == 'conv':\n",
    "        features = tf.compat.v1.layers.conv2d(features, 64, (3, 3), padding = 'SAME')\n",
    "    if style == 'lc':\n",
    "        features = tf.keras.layers.LocallyConnected2D(4, (3, 3), padding = 'valid')(features)\n",
    "    if style == 'fc':\n",
    "        features = tf.compat.v1.layers.dense(features, 64 * 64 * 1)\n",
    "    features = tf.nn.leaky_relu(features)\n",
    "linear_features = tf.keras.layers.Flatten()(features)\n",
    "yhat_raw = tf.compat.v1.layers.Dense(n_cls)(linear_features)\n",
    "yhat = tf.nn.softmax(yhat_raw, axis=1)\n",
    "y_true = tfph(shape = (None, n_cls), dtype = tf.float32)\n",
    "ce_loss = tf.reduce_mean(tf.nn.softmax_cross_entropy_with_logits(labels = y_true, logits = yhat_raw, axis=1))\n",
    "reg_loss = tf.reduce_sum([tf.reduce_sum(tf.square(v)) for v in tf.compat.v1.trainable_variables()])\n",
    "loss = ce_loss + reg_loss * 0 # For now, disabling regularization.\n",
    "opt = tf.compat.v1.train.AdamOptimizer().minimize(loss)\n",
    "sess = tf.compat.v1.Session()\n",
    "sess.run(tf.compat.v1.global_variables_initializer())"
   ]
  },
  {
   "cell_type": "code",
   "execution_count": null,
   "metadata": {},
   "outputs": [],
   "source": [
    "batch_fd = {img_ph: train_images, y_true: train_labels}\n",
    "if style == 'fc':\n",
    "    batch_fd[img_ph] = train_images.reshape(-1, 32*32*3)"
   ]
  },
  {
   "cell_type": "code",
   "execution_count": null,
   "metadata": {},
   "outputs": [],
   "source": [
    "for i in range(1000):\n",
    "  _, cur_loss = sess.run(\n",
    "      [opt, loss], batch_fd)\n",
    "  if i % 10 == 0:\n",
    "    print(cur_loss)"
   ]
  },
  {
   "cell_type": "code",
   "execution_count": null,
   "metadata": {},
   "outputs": [],
   "source": []
  }
 ],
 "metadata": {
  "kernelspec": {
   "display_name": "Python 3",
   "language": "python",
   "name": "python3"
  },
  "language_info": {
   "codemirror_mode": {
    "name": "ipython",
    "version": 3
   },
   "file_extension": ".py",
   "mimetype": "text/x-python",
   "name": "python",
   "nbconvert_exporter": "python",
   "pygments_lexer": "ipython3",
   "version": "3.7.6"
  }
 },
 "nbformat": 4,
 "nbformat_minor": 4
}
