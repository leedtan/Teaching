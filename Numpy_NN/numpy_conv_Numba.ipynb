{
 "cells": [
  {
   "cell_type": "code",
   "execution_count": null,
   "id": "53891a66-680e-4768-bb30-1cbd2116847f",
   "metadata": {},
   "outputs": [],
   "source": [
    "%reload_ext autoreload\n",
    "%autoreload 2"
   ]
  },
  {
   "cell_type": "code",
   "execution_count": null,
   "id": "d4962efb-f64b-4c3c-a650-ac6f04f4e96d",
   "metadata": {},
   "outputs": [],
   "source": [
    "import sys\n",
    "from pathlib import Path\n",
    "\n",
    "\n",
    "def override_sys_breakpoint(frame=None):\n",
    "    from IPython.core.debugger import set_trace\n",
    "\n",
    "    set_trace(frame=frame)\n",
    "\n",
    "\n",
    "sys.breakpointhook = override_sys_breakpoint"
   ]
  },
  {
   "cell_type": "code",
   "execution_count": null,
   "id": "fa5c96a8",
   "metadata": {},
   "outputs": [],
   "source": [
    "import numpy as np\n",
    "import pandas as pd\n",
    "import matplotlib.pyplot as plt\n",
    "import random"
   ]
  },
  {
   "cell_type": "code",
   "execution_count": null,
   "id": "beee30e7",
   "metadata": {},
   "outputs": [],
   "source": [
    "from tensorflow.keras.datasets import cifar10\n",
    "\n",
    "(trainX, trainy), (testX, testy) = cifar10.load_data()\n",
    "print('Train: X=%s, y=%s' % (trainX.shape, trainy.shape))\n",
    "print('Test: X=%s, y=%s' % (testX.shape, testy.shape))\n",
    "for i in range(9):\n",
    "    plt.subplot(330 + 1 + i)\n",
    "    plt.imshow(trainX[i][:,::-1, :]/255)# + np.random.normal(size=trainX[i][:,::-1, :].shape) * 1e-1)\n",
    "\n",
    "plt.show()"
   ]
  },
  {
   "cell_type": "code",
   "execution_count": null,
   "id": "4ad6a3b1",
   "metadata": {},
   "outputs": [],
   "source": [
    "n_data = 40\n",
    "train_images = trainX[:n_data]\n",
    "train_labels = pd.get_dummies(trainy[:n_data,0]).values\n",
    "test_images = testX[:n_data]\n",
    "test_labels = pd.get_dummies(testy[:n_data,0]).values\n",
    "n_cls = train_labels.shape[1]"
   ]
  },
  {
   "cell_type": "code",
   "execution_count": null,
   "id": "9f29d86f",
   "metadata": {},
   "outputs": [],
   "source": [
    "train_images.shape"
   ]
  },
  {
   "cell_type": "code",
   "execution_count": null,
   "id": "c833ae03",
   "metadata": {},
   "outputs": [],
   "source": [
    "style = 'conv'"
   ]
  },
  {
   "cell_type": "code",
   "execution_count": null,
   "id": "a2a9f88a",
   "metadata": {},
   "outputs": [],
   "source": [
    "if style == 'fc':\n",
    "    x = train_images.reshape(train_images.shape[0], -1)\n",
    "    x_tst = test_images.reshape(test_images.shape[0], -1)\n",
    "    num_features = x.shape[1]\n",
    "else:\n",
    "    x = train_images\n",
    "    x_tst = test_images\n",
    "    num_features = 3\n",
    "x_mean, x_std = x.mean(), x.std()\n",
    "x = (x - x_mean) / x_std\n",
    "x_tst = (x_tst - x_mean)/ x_std\n",
    "y = train_labels\n",
    "y_tst = test_labels"
   ]
  },
  {
   "cell_type": "code",
   "execution_count": null,
   "id": "676f5bc5",
   "metadata": {
    "scrolled": true
   },
   "outputs": [],
   "source": [
    "from utils import LeakyRelu, FlattenNp\n",
    "from dense_np import DenseNp"
   ]
  },
  {
   "cell_type": "code",
   "execution_count": null,
   "id": "32c1a5e2",
   "metadata": {},
   "outputs": [],
   "source": []
  },
  {
   "cell_type": "code",
   "execution_count": null,
   "id": "85282bd0",
   "metadata": {},
   "outputs": [],
   "source": [
    "from conv_np import ConvNp\n"
   ]
  },
  {
   "cell_type": "code",
   "execution_count": null,
   "id": "2ef2b67e",
   "metadata": {},
   "outputs": [],
   "source": [
    "class Model:\n",
    "    def __init__(self, layer_shapes, lr = 1e-1, momentum = 0.0, style = 'fc', target_shape = None):\n",
    "        self.lr = lr\n",
    "        self.style = style\n",
    "        self.losses = []\n",
    "        self.layers = []\n",
    "        for in_shape, out_shape in zip(layer_shapes[:-1], layer_shapes[1:]):\n",
    "            if style == 'fc':\n",
    "                self.layers.append(DenseNp(in_shape, out_shape, momentum = momentum))\n",
    "            elif style == 'conv':\n",
    "                self.layers.append(ConvNp(in_shape, out_shape, momentum = momentum))\n",
    "                \n",
    "            self.layers.append(LeakyRelu())\n",
    "        if style == 'conv':\n",
    "            self.layers.append(FlattenNp())\n",
    "            self.layers.append(LeakyRelu())\n",
    "            self.layers.append(DenseNp(layer_shapes[-1] * 32 * 32, target_shape, momentum = momentum))\n",
    "        else:\n",
    "            # self.layers = self.layers[:-1]\n",
    "            self.layers.append(DenseNp(out_shape, target_shape, momentum = momentum))\n",
    "\n",
    "    def predict(self, x):\n",
    "        for layer in self.layers:\n",
    "            x = layer.forward(x)\n",
    "        return x\n",
    "    \n",
    "    def loss(self, x = None, y= None, err = None):\n",
    "        if err is None:\n",
    "            err = self.err(x, y)\n",
    "        return np.square(err).mean()\n",
    "    \n",
    "    def err(self, x, y):\n",
    "        yhat = self.predict(x)\n",
    "        return (y - yhat)\n",
    "        \n",
    "        \n",
    "    def train_fullbatch(self, x, y, steps, **kwargs):\n",
    "        \n",
    "        for step in range(steps):\n",
    "            err = self.err(x, y)\n",
    "            self.losses.append(self.loss(err = err))\n",
    "            grad_layer = err / y.shape[0]\n",
    "            for layer in self.layers[::-1]:\n",
    "                grad_layer = layer.backward(grad_layer, lr = self.lr)\n",
    "            \n",
    "    def train_one_epoch(self, x, y, batch_size):\n",
    "        data_order = np.random.choice(x.shape[0], x.shape[0], replace=False)\n",
    "        num_batch = x.shape[0]//batch_size\n",
    "        minibatch_losses = 0\n",
    "        for batch_idx in range(num_batch):\n",
    "            if batch_idx == num_batch - 1:\n",
    "                sample_idxs = data_order[batch_idx * batch_size:]\n",
    "            else:\n",
    "                sample_idxs = data_order[batch_idx * batch_size: (batch_idx + 1) * batch_size]\n",
    "            x_sample = x[sample_idxs]\n",
    "            y_sample = y[sample_idxs]\n",
    "            err = self.err(x_sample, y_sample)\n",
    "            minibatch_losses += self.loss(err = err)\n",
    "            grad_layer = err / y_sample.shape[0]\n",
    "            for layer in self.layers[::-1]:\n",
    "                grad_layer = layer.backward(grad_layer, lr = self.lr)\n",
    "        self.losses.append(minibatch_losses)\n",
    "        \n",
    "        \n",
    "    def train_minibatch(self, x, y, epochs, batch_size = 8):\n",
    "        import tqdm\n",
    "        for epoch in tqdm.tqdm(range(epochs)):\n",
    "            self.train_one_epoch(x, y, batch_size = batch_size)\n",
    "        \n",
    "    def train(self, x, y, steps, style = 'fullbatch', **kwargs):\n",
    "        {'minibatch': self.train_minibatch, 'fullbatch': self.train_fullbatch}[style](x, y, steps, **kwargs)\n",
    "    def viz(self, skip_first = 0):\n",
    "        plt.plot(self.losses[skip_first:])"
   ]
  },
  {
   "cell_type": "code",
   "execution_count": null,
   "id": "e4415526",
   "metadata": {},
   "outputs": [],
   "source": [
    "mdl = Model([num_features, 16, 16], momentum = 0.9, lr = 1e-6, style = style, target_shape = y.shape[1])"
   ]
  },
  {
   "cell_type": "code",
   "execution_count": null,
   "id": "b3ac4918",
   "metadata": {},
   "outputs": [],
   "source": [
    "mdl.train(x, y,10 , style = 'minibatch')"
   ]
  },
  {
   "cell_type": "code",
   "execution_count": null,
   "id": "6f3c40ac-c067-48e4-82e1-4e6de491a937",
   "metadata": {},
   "outputs": [],
   "source": [
    "# %timeit mdl.train(x, y,10 , style = 'minibatch')"
   ]
  },
  {
   "cell_type": "code",
   "execution_count": null,
   "id": "99d834b4-ddac-4d56-af16-455625faa4de",
   "metadata": {},
   "outputs": [],
   "source": [
    "mdl.predict(x).shape"
   ]
  },
  {
   "cell_type": "code",
   "execution_count": null,
   "id": "53083780-6e50-4dec-bef8-2d2f62c38606",
   "metadata": {},
   "outputs": [],
   "source": [
    "y.shape"
   ]
  },
  {
   "cell_type": "code",
   "execution_count": null,
   "id": "32594077",
   "metadata": {},
   "outputs": [],
   "source": [
    "plt.scatter(mdl.predict(x), y)"
   ]
  },
  {
   "cell_type": "code",
   "execution_count": null,
   "id": "d10b5d01",
   "metadata": {
    "scrolled": true
   },
   "outputs": [],
   "source": [
    "mdl.viz(skip_first = 2)"
   ]
  },
  {
   "cell_type": "code",
   "execution_count": null,
   "id": "8397a259",
   "metadata": {},
   "outputs": [],
   "source": [
    "mdl.loss(x, y[:,None])"
   ]
  },
  {
   "cell_type": "code",
   "execution_count": null,
   "id": "9d16423f",
   "metadata": {},
   "outputs": [],
   "source": []
  },
  {
   "cell_type": "code",
   "execution_count": null,
   "id": "67b4b1dd",
   "metadata": {},
   "outputs": [],
   "source": []
  },
  {
   "cell_type": "code",
   "execution_count": null,
   "id": "35f0f752",
   "metadata": {},
   "outputs": [],
   "source": []
  }
 ],
 "metadata": {
  "kernelspec": {
   "display_name": "Python 3 (ipykernel)",
   "language": "python",
   "name": "python3"
  },
  "language_info": {
   "codemirror_mode": {
    "name": "ipython",
    "version": 3
   },
   "file_extension": ".py",
   "mimetype": "text/x-python",
   "name": "python",
   "nbconvert_exporter": "python",
   "pygments_lexer": "ipython3",
   "version": "3.10.11"
  }
 },
 "nbformat": 4,
 "nbformat_minor": 5
}
