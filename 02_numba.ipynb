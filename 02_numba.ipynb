{
 "cells": [
  {
   "cell_type": "code",
   "execution_count": 1,
   "id": "4676578a",
   "metadata": {},
   "outputs": [
    {
     "name": "stdout",
     "output_type": "stream",
     "text": [
      "Version of Numba: 0.55.1\n"
     ]
    }
   ],
   "source": [
    "import numba as nb\n",
    "print(f\"Version of Numba: {nb.__version__}\")"
   ]
  },
  {
   "cell_type": "code",
   "execution_count": 2,
   "id": "19c6353a",
   "metadata": {},
   "outputs": [],
   "source": [
    "import itertools\n",
    "import numpy as np\n",
    "import numba\n",
    "\n",
    "\n",
    "@numba.jit(nopython=True, nogil=True, fastmath=True)\n",
    "def _correlate_sparse_loop(input, indices, offsets,\n",
    "                           values, output):\n",
    "    for i, j in enumerate(indices):\n",
    "        for off, val in zip(offsets, values):\n",
    "            output[i] += input[j + off] * val\n",
    "\n",
    "\n",
    "def correlate_sparse(image, kernel):\n",
    "    indices = np.nonzero(kernel)\n",
    "    offsets = np.ravel_multi_index(indices, image.shape)\n",
    "    values = kernel[indices].astype(image.dtype)\n",
    "    result = np.zeros([a - b + 1\n",
    "                       for a, b in zip(image.shape, kernel.shape)],\n",
    "                      dtype=image.dtype)\n",
    "    corner_multi_indices = np.meshgrid(*[np.arange(i)\n",
    "                                         for i in result.shape],\n",
    "                                       indexing='ij',\n",
    "                                       sparse=True)\n",
    "    corner_indices = np.ravel_multi_index(corner_multi_indices,\n",
    "                                          image.shape).ravel()\n",
    "    _correlate_sparse_loop(\n",
    "        image.ravel(), corner_indices, offsets, values,\n",
    "        result.ravel()\n",
    "    )\n",
    "    return result"
   ]
  },
  {
   "cell_type": "code",
   "execution_count": 3,
   "id": "045081af",
   "metadata": {},
   "outputs": [],
   "source": [
    "image = np.random.random((4000, 6000))\n",
    "w = 301\n",
    "kern = np.zeros((w + 1,) * image.ndim)\n",
    "for indices in itertools.product(*([[0, -1]] * image.ndim)):\n",
    "    kern[indices] = (-1) ** (image.ndim % 2 != np.sum(indices) % 2)"
   ]
  },
  {
   "cell_type": "code",
   "execution_count": 4,
   "id": "9311e954",
   "metadata": {},
   "outputs": [],
   "source": [
    "indices = np.nonzero(kern)\n",
    "offsets = np.ravel_multi_index(indices, image.shape)\n",
    "values = kern[indices].astype(image.dtype)\n",
    "result = np.zeros([a - b + 1\n",
    "                   for a, b in zip(image.shape, kern.shape)],\n",
    "                  dtype=image.dtype)\n",
    "corner_multi_indices = np.meshgrid(*[np.arange(i)\n",
    "                                     for i in result.shape],\n",
    "                                   indexing='ij',\n",
    "                                   sparse=True)\n",
    "corner_indices = np.ravel_multi_index(corner_multi_indices,\n",
    "                                      image.shape).ravel()"
   ]
  },
  {
   "cell_type": "code",
   "execution_count": 5,
   "id": "04dc0bae",
   "metadata": {},
   "outputs": [],
   "source": [
    "_correlate_sparse_loop(\n",
    "    image.ravel(), corner_indices, offsets, values,\n",
    "    result.ravel()\n",
    ")"
   ]
  },
  {
   "cell_type": "code",
   "execution_count": 6,
   "id": "c8276189",
   "metadata": {},
   "outputs": [
    {
     "name": "stdout",
     "output_type": "stream",
     "text": [
      "122 ms ± 13.3 ms per loop (mean ± std. dev. of 5 runs, 5 loops each)\n"
     ]
    },
    {
     "data": {
      "text/plain": [
       "<TimeitResult : 122 ms ± 13.3 ms per loop (mean ± std. dev. of 5 runs, 5 loops each)>"
      ]
     },
     "execution_count": 6,
     "metadata": {},
     "output_type": "execute_result"
    }
   ],
   "source": [
    "%%timeit -n 5 -r 5 -o\n",
    "_correlate_sparse_loop(\n",
    "    image.ravel(), corner_indices, offsets, values,\n",
    "    result.ravel()\n",
    ")"
   ]
  },
  {
   "cell_type": "code",
   "execution_count": 7,
   "id": "610c5321",
   "metadata": {},
   "outputs": [
    {
     "name": "stdout",
     "output_type": "stream",
     "text": [
      "50.8 s ± 0 ns per loop (mean ± std. dev. of 1 run, 1 loop each)\n"
     ]
    },
    {
     "data": {
      "text/plain": [
       "<TimeitResult : 50.8 s ± 0 ns per loop (mean ± std. dev. of 1 run, 1 loop each)>"
      ]
     },
     "execution_count": 7,
     "metadata": {},
     "output_type": "execute_result"
    }
   ],
   "source": [
    "%%timeit -n 1 -r 1 -o\n",
    "_correlate_sparse_loop.py_func(\n",
    "    image.ravel(), corner_indices, offsets, values,\n",
    "    result.ravel()\n",
    ")"
   ]
  },
  {
   "cell_type": "code",
   "execution_count": 8,
   "id": "10374581",
   "metadata": {},
   "outputs": [],
   "source": [
    "@numba.jit(nopython=True, nogil=True, fastmath=True)\n",
    "def _correlate_sparse_offsets(input, indices, offsets, values, output):\n",
    "    for off, val in zip(offsets, values):\n",
    "        # this loop order optimises cache access, gives up to 10x speedup\n",
    "        for i, j in enumerate(indices):\n",
    "            output[i] += input[j + off] * val "
   ]
  },
  {
   "cell_type": "code",
   "execution_count": 9,
   "id": "7be4a1e4",
   "metadata": {},
   "outputs": [],
   "source": [
    "_correlate_sparse_offsets(\n",
    "    image.ravel(), corner_indices, offsets, values,\n",
    "    result.ravel()\n",
    ")"
   ]
  },
  {
   "cell_type": "code",
   "execution_count": 10,
   "id": "07099724",
   "metadata": {},
   "outputs": [
    {
     "name": "stdout",
     "output_type": "stream",
     "text": [
      "150 ms ± 18.2 ms per loop (mean ± std. dev. of 5 runs, 5 loops each)\n"
     ]
    }
   ],
   "source": [
    "%%timeit -n 5 -r 5\n",
    "_correlate_sparse_offsets(\n",
    "    image.ravel(), corner_indices, offsets, values,\n",
    "    result.ravel()\n",
    ")"
   ]
  },
  {
   "cell_type": "code",
   "execution_count": 11,
   "id": "3cab0d72",
   "metadata": {},
   "outputs": [],
   "source": [
    "def print_lines(substring, string):\n",
    "    lines = string.split('\\n')\n",
    "    for line in lines:\n",
    "        if substring in line:\n",
    "            print(line)"
   ]
  },
  {
   "cell_type": "code",
   "execution_count": 12,
   "id": "d63284c6",
   "metadata": {},
   "outputs": [
    {
     "name": "stdout",
     "output_type": "stream",
     "text": [
      "single instructions: 10\n",
      "packed instructions: 0\n",
      "\tvmovsd\t(%rbx,%rdx), %xmm0\n",
      "\tvmovsd\t(%rcx,%rbx,8), %xmm1\n",
      "\tvfmadd213sd\t(%rsi,%r9,8), %xmm0, %xmm1\n",
      "\tvmovsd\t%xmm1, (%rsi,%r9,8)\n",
      "\tvmovsd\t(%rcx,%rbx,8), %xmm1\n",
      "\tvfmadd213sd\t8(%rsi,%r9,8), %xmm0, %xmm1\n",
      "\tvmovsd\t%xmm1, 8(%rsi,%r9,8)\n",
      "\tvmovsd\t(%rcx,%rdx,8), %xmm1\n",
      "\tvfmadd213sd\t(%rsi,%r11,8), %xmm1, %xmm0\n",
      "\tvmovsd\t%xmm0, (%rsi,%r11,8)\n"
     ]
    }
   ],
   "source": [
    "asm = list(_correlate_sparse_offsets.inspect_asm().values())[0]\n",
    "print('single instructions:', asm.count('sd'))\n",
    "print('packed instructions:', asm.count('pd'))\n",
    "print_lines('sd', asm)"
   ]
  },
  {
   "cell_type": "code",
   "execution_count": 13,
   "id": "ac5e8328",
   "metadata": {},
   "outputs": [],
   "source": [
    "@numba.jit(nopython=True, nogil=True, fastmath=True)\n",
    "def _correlate_no_indirection(input, indices, offsets, values, output):\n",
    "    for off, val in zip(offsets, values):\n",
    "        for i in range(len(indices)):\n",
    "            output[i] += input[i + off] * val"
   ]
  },
  {
   "cell_type": "code",
   "execution_count": 14,
   "id": "78e143ba",
   "metadata": {},
   "outputs": [],
   "source": [
    "# warmup jit\n",
    "_correlate_no_indirection(\n",
    "    image.ravel(), corner_indices, offsets, values,\n",
    "    result.ravel()\n",
    ")"
   ]
  },
  {
   "cell_type": "code",
   "execution_count": 15,
   "id": "4f5bf29d",
   "metadata": {},
   "outputs": [
    {
     "name": "stdout",
     "output_type": "stream",
     "text": [
      "149 ms ± 16.1 ms per loop (mean ± std. dev. of 5 runs, 5 loops each)\n"
     ]
    }
   ],
   "source": [
    "%%timeit -n 5 -r 5\n",
    "_correlate_no_indirection(\n",
    "    image.ravel(), corner_indices, offsets, values,\n",
    "    result.ravel()\n",
    ")"
   ]
  },
  {
   "cell_type": "code",
   "execution_count": 16,
   "id": "5247adf0",
   "metadata": {},
   "outputs": [
    {
     "name": "stdout",
     "output_type": "stream",
     "text": [
      "single instructions: 10\n",
      "packed instructions: 0\n"
     ]
    }
   ],
   "source": [
    "asm = list(_correlate_no_indirection.inspect_asm().values())[0]\n",
    "print('single instructions:', asm.count('sd'))\n",
    "print('packed instructions:', asm.count('pd'))\n",
    "print_lines('pd', asm)"
   ]
  },
  {
   "cell_type": "code",
   "execution_count": 17,
   "id": "1124308f",
   "metadata": {},
   "outputs": [],
   "source": [
    "@numba.jit(nopython=True, nogil=True, fastmath=True)\n",
    "def _correlate_no_indir_offset(input, indices, offsets, values, output):\n",
    "    for off, val in zip(offsets, values):\n",
    "        for i in range(len(indices)):\n",
    "            output[i] += input[i] * val"
   ]
  },
  {
   "cell_type": "code",
   "execution_count": 18,
   "id": "a1b363c3",
   "metadata": {},
   "outputs": [],
   "source": [
    "_correlate_no_indir_offset(\n",
    "    image.ravel(), corner_indices, offsets, values,\n",
    "    result.ravel()\n",
    ")"
   ]
  },
  {
   "cell_type": "code",
   "execution_count": 19,
   "id": "a9da6e07",
   "metadata": {},
   "outputs": [
    {
     "name": "stdout",
     "output_type": "stream",
     "text": [
      "95.1 ms ± 10.1 ms per loop (mean ± std. dev. of 5 runs, 5 loops each)\n"
     ]
    }
   ],
   "source": [
    "%%timeit -n 5 -r 5\n",
    "_correlate_no_indir_offset(\n",
    "    image.ravel(), corner_indices, offsets, values,\n",
    "    result.ravel()\n",
    ")"
   ]
  },
  {
   "cell_type": "code",
   "execution_count": 20,
   "id": "19e2814f",
   "metadata": {},
   "outputs": [
    {
     "name": "stdout",
     "output_type": "stream",
     "text": [
      "single instructions: 16\n",
      "packed instructions: 0\n"
     ]
    }
   ],
   "source": [
    "asm = list(_correlate_no_indir_offset.inspect_asm().values())[0]\n",
    "print('single instructions:', asm.count('sd'))\n",
    "print('packed instructions:', asm.count('pd'))\n",
    "print_lines('pd', asm)"
   ]
  },
  {
   "cell_type": "code",
   "execution_count": 21,
   "id": "90a22da2",
   "metadata": {},
   "outputs": [],
   "source": [
    "image32 = image.astype(np.float32)\n",
    "result32 = result.astype(np.float32)\n",
    "values32 = values.astype(np.float32)"
   ]
  },
  {
   "cell_type": "code",
   "execution_count": 22,
   "id": "3aa814dc",
   "metadata": {},
   "outputs": [],
   "source": [
    "_correlate_sparse_offsets(\n",
    "    image32.ravel(), corner_indices, offsets, values32,\n",
    "    result32.ravel()\n",
    ")"
   ]
  },
  {
   "cell_type": "code",
   "execution_count": 23,
   "id": "2226ee1a",
   "metadata": {},
   "outputs": [
    {
     "name": "stdout",
     "output_type": "stream",
     "text": [
      "120 ms ± 16.1 ms per loop (mean ± std. dev. of 5 runs, 5 loops each)\n"
     ]
    }
   ],
   "source": [
    "%%timeit -n 5 -r 5\n",
    "_correlate_sparse_offsets(\n",
    "    image32.ravel(), corner_indices, offsets, values32,\n",
    "    result32.ravel()\n",
    ")"
   ]
  },
  {
   "cell_type": "code",
   "execution_count": 24,
   "id": "b5d40e66",
   "metadata": {},
   "outputs": [
    {
     "name": "stdout",
     "output_type": "stream",
     "text": [
      "68.4 ms ± 7.41 ms per loop (mean ± std. dev. of 5 runs, 5 loops each)\n"
     ]
    }
   ],
   "source": [
    "%%timeit -n 5 -r 5\n",
    "_correlate_no_indir_offset(\n",
    "    image32.ravel(), corner_indices, offsets, values32,\n",
    "    result32.ravel()\n",
    ")"
   ]
  },
  {
   "cell_type": "code",
   "execution_count": 25,
   "id": "cebba20a",
   "metadata": {},
   "outputs": [
    {
     "name": "stdout",
     "output_type": "stream",
     "text": [
      "single instructions: 21\n",
      "packed instructions: 50\n",
      "\tvxorps\t%xmm0, %xmm0, %xmm0\n",
      "\tvmovaps\t%ymm0, 672(%rsp)\n",
      "\tvmovups\t%ymm0, 696(%rsp)\n",
      "\tvmovaps\t%ymm0, 608(%rsp)\n",
      "\tvmovups\t%ymm0, 632(%rsp)\n",
      "\tvmovaps\t%ymm0, 544(%rsp)\n",
      "\tvmovups\t%ymm0, 568(%rsp)\n",
      "\tvmovaps\t%ymm0, 480(%rsp)\n",
      "\tvmovups\t%ymm0, 504(%rsp)\n",
      "\tvmovaps\t%ymm0, 736(%rsp)\n",
      "\tvmovups\t%ymm0, 760(%rsp)\n",
      "\tvxorps\t%xmm0, %xmm0, %xmm0\n",
      "\tvmovaps\t%ymm0, 672(%rsp)\n",
      "\tvmovups\t%ymm0, 696(%rsp)\n",
      "\tvxorps\t%xmm0, %xmm0, %xmm0\n",
      "\tvmovaps\t%ymm0, 608(%rsp)\n",
      "\tvmovups\t%ymm0, 632(%rsp)\n",
      "\tvxorps\t%xmm0, %xmm0, %xmm0\n",
      "\tvmovaps\t%ymm0, 544(%rsp)\n",
      "\tvmovups\t%ymm0, 568(%rsp)\n",
      "\tvxorps\t%xmm0, %xmm0, %xmm0\n",
      "\tvmovaps\t%ymm0, 480(%rsp)\n",
      "\tvmovups\t%ymm0, 504(%rsp)\n",
      "\tvxorps\t%xmm0, %xmm0, %xmm0\n",
      "\tvmovaps\t%ymm0, 736(%rsp)\n",
      "\tvmovups\t%ymm0, 760(%rsp)\n",
      "\tvmovups\t744(%rsp), %xmm0\n",
      "\tvmovaps\t%xmm0, 816(%rsp)\n",
      "\tvmovaps\t768(%rsp), %xmm0\n",
      "\tvmovaps\t%xmm0, 800(%rsp)\n",
      "\tvmovaps\t800(%rsp), %xmm0\n",
      "\tvmovups\t%xmm0, 224(%rsp)\n",
      "\tvmovaps\t816(%rsp), %xmm0\n",
      "\tvmovups\t%xmm0, 200(%rsp)\n",
      "\tvmovups\t296(%rsp), %ymm0\n",
      "\tvmovups\t328(%rsp), %xmm1\n",
      "\tvmovups\t352(%rsp), %ymm2\n",
      "\tvmovaps\t384(%rsp), %xmm3\n",
      "\tvmovups\t408(%rsp), %ymm4\n",
      "\tvmovups\t440(%rsp), %xmm5\n",
      "\tvmovups\t464(%rsp), %ymm6\n",
      "\tvmovaps\t496(%rsp), %xmm7\n",
      "\tvmovups\t%xmm7, 224(%rsp)\n",
      "\tvmovups\t%ymm6, 192(%rsp)\n",
      "\tvmovups\t%xmm5, 168(%rsp)\n",
      "\tvmovups\t%ymm4, 136(%rsp)\n",
      "\tvmovups\t%xmm3, 112(%rsp)\n",
      "\tvmovups\t%ymm2, 80(%rsp)\n",
      "\tvmovups\t%xmm1, 56(%rsp)\n",
      "\tvmovups\t%ymm0, 24(%rsp)\n"
     ]
    }
   ],
   "source": [
    "asm = list(_correlate_no_indir_offset.inspect_asm().values())[1]\n",
    "print('single instructions:', asm.count('ss'))\n",
    "print('packed instructions:', asm.count('ps'))\n",
    "print_lines('ps', asm)"
   ]
  }
 ],
 "metadata": {
  "kernelspec": {
   "display_name": "Python [conda env:gpu_stack] *",
   "language": "python",
   "name": "conda-env-gpu_stack-py"
  },
  "language_info": {
   "codemirror_mode": {
    "name": "ipython",
    "version": 3
   },
   "file_extension": ".py",
   "mimetype": "text/x-python",
   "name": "python",
   "nbconvert_exporter": "python",
   "pygments_lexer": "ipython3",
   "version": "3.8.13"
  }
 },
 "nbformat": 4,
 "nbformat_minor": 5
}
